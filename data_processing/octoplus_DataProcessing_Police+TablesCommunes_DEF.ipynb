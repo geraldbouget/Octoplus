{
 "cells": [
  {
   "cell_type": "markdown",
   "metadata": {},
   "source": [
    "<p><font size=\"5\"><b>CRIMES ET DELITS EN FRANCE - SIMPLON DEV. DATA </b></font></p>\n",
    "\n",
    "\n",
    "<p><font size=\"4\"><b> 0-1. PRÉPARATION DONNÉES POUR IMPORT DANS SQL - DONNEES POLICE </b></font></p>\n",
    "\n",
    "<p><font size=\"3\"> *SOURCE DATASET : https://www.data.gouv.fr/fr/datasets/crimes-et-delits-enregistres-par-les-services-de-gendarmerie-et-de-police-depuis-2012/* </font></p>\n",
    "\n",
    "*© 2020, Gérald Bouget  (<mailto:geraldbouget@gmail.com>)\n",
    "\n",
    "___"
   ]
  },
  {
   "cell_type": "code",
   "execution_count": 1,
   "metadata": {},
   "outputs": [],
   "source": [
    "import pandas as pd\n",
    "import openpyxl\n",
    "from openpyxl.utils import cell\n",
    "import os, zipfile\n",
    "from zipfile import ZipFile\n",
    "import requests\n",
    "import collections\n",
    "import re\n",
    "#imac:\n",
    "#os.chdir('/Users/admin/SFR Cloud/Documents/Simplon_DataDev_formation/Projet_final/Datasets/crimes_delits_police_gendarmerie_annuel/')\n",
    "\n",
    "#macbookpro:\n",
    "os.chdir('/Users/geraldbouget/SFR Cloud/Documents/Simplon_DataDev_formation/Projet_final/Datasets/crimes_delits_police_gendarmerie_annuel/')\n"
   ]
  },
  {
   "cell_type": "markdown",
   "metadata": {},
   "source": [
    "## <div class=\"alert alert-danger\"> WARNING : ICI DATASET ORIGINAL - POUR GENDARMERIE DATASET CORRIGE - CF NOTEBOOK GENDARMERIE  </div> "
   ]
  },
  {
   "cell_type": "code",
   "execution_count": 2,
   "metadata": {},
   "outputs": [],
   "source": [
    "#chargement workbook excel\n",
    "wb=openpyxl.load_workbook('crimes-et-delits-enregistres-par-les-services-de-gendarmerie-et-de-police-depuis-2012_ORIGINAL.xlsx')"
   ]
  },
  {
   "cell_type": "code",
   "execution_count": 3,
   "metadata": {},
   "outputs": [],
   "source": [
    "# CHARGEMENT FICHIER IDENTIQUE QUE PRÉCEDENT (UTILISATION CODE DIFFERENTE)\n",
    "wbpd=pd.ExcelFile('crimes-et-delits-enregistres-par-les-services-de-gendarmerie-et-de-police-depuis-2012_ORIGINAL.xlsx')"
   ]
  },
  {
   "cell_type": "markdown",
   "metadata": {},
   "source": [
    "## <div class=\"alert alert-info\"> 1. Création dictionnaire Police </div> "
   ]
  },
  {
   "cell_type": "code",
   "execution_count": 4,
   "metadata": {},
   "outputs": [],
   "source": [
    "# creation dictionnaire pour inclure listes unitaires des directions de police et services  et departements pour chaque \n",
    "# année depuis 2012\n",
    "def policeDic():\n",
    "    police = {}\n",
    "    for year in wb.sheetnames:\n",
    "        if 'PN' in year:\n",
    "            police[year]={'departement':[], 'direction':[], 'service':[]}\n",
    "    \n",
    "    # récupération des nom de chaque departement, direction, service de chaque annee à titre unitaire\n",
    "    for year in police:\n",
    "        for departements in wb[year]['C1':str(cell.get_column_letter(wb[year].max_column)+'1')]:\n",
    "            for dep in departements:\n",
    "                if dep.value not in police[year]['departement'] and dep.value!=None:\n",
    "                    police[year]['departement'].append(dep.value)\n",
    "    \n",
    "        for directions in wb[year]['C2':str(cell.get_column_letter(wb[year].max_column)+'2')]:\n",
    "            for dir in directions:\n",
    "                if dir.value not in police[year]['direction'] and dir.value!=None:\n",
    "                    police[year]['direction'].append(dir.value)\n",
    "        \n",
    "        for services in wb[year]['C3':str(cell.get_column_letter(wb[year].max_column)+'3')]:\n",
    "            for serv in services:\n",
    "                if serv.value not in police[year]['service'] and serv.value!=None:\n",
    "                    police[year]['service'].append(serv.value)\n",
    "    \n",
    "    return police"
   ]
  },
  {
   "cell_type": "code",
   "execution_count": 5,
   "metadata": {},
   "outputs": [],
   "source": [
    "# liste des keys principales dans Police\n",
    "liste=list(policeDic())\n",
    "police=policeDic()"
   ]
  },
  {
   "cell_type": "markdown",
   "metadata": {},
   "source": [
    "## <div class=\"alert alert-info\"> 2. comparaison /checks entre années noms variables multi index (dep - directions - services </div> "
   ]
  },
  {
   "cell_type": "code",
   "execution_count": 47,
   "metadata": {},
   "outputs": [],
   "source": [
    "def depDiff():\n",
    "    #comparaison departement entre années\n",
    "    for i in range(len(liste)-1):\n",
    "        if set(police[liste[i]]['departement']) == set(police[liste[i+1]]['departement']):\n",
    "            print(str(liste[i])+ ' ' + 'a les mêmes départements que' + ' ' +str(liste[i+1]))\n",
    "        else:\n",
    "            print(str(liste[i]) + ' n\\'a pas les mêmes départements que ' +str(liste[i+1]))\n",
    "    "
   ]
  },
  {
   "cell_type": "code",
   "execution_count": 48,
   "metadata": {},
   "outputs": [
    {
     "name": "stdout",
     "output_type": "stream",
     "text": [
      "Services PN 2012 a les mêmes départements que Services PN 2013\n",
      "Services PN 2013 a les mêmes départements que Services PN 2014\n",
      "Services PN 2014 a les mêmes départements que Services PN 2015\n",
      "Services PN 2015 a les mêmes départements que Services PN 2016\n",
      "Services PN 2016 a les mêmes départements que Services PN 2017\n",
      "Services PN 2017 a les mêmes départements que Services PN 2018\n",
      "Services PN 2018 a les mêmes départements que Services PN 2019\n"
     ]
    }
   ],
   "source": [
    "depDiff()"
   ]
  },
  {
   "cell_type": "code",
   "execution_count": 49,
   "metadata": {},
   "outputs": [],
   "source": [
    "def dirDiff():\n",
    "    for i in range(len(liste)-1):\n",
    "        if set(police[liste[i]]['direction']) == set(police[liste[i+1]]['direction']):\n",
    "            print(str(liste[i])+  ' a les mêmes directions que ' +str(liste[i+1]))\n",
    "        else:\n",
    "            print(str(liste[i])+  ' n\\'a pas les mêmes directions que ' + str(liste[i+1]))\n"
   ]
  },
  {
   "cell_type": "code",
   "execution_count": 50,
   "metadata": {},
   "outputs": [
    {
     "name": "stdout",
     "output_type": "stream",
     "text": [
      "Services PN 2012 a les mêmes directions que Services PN 2013\n",
      "Services PN 2013 a les mêmes directions que Services PN 2014\n",
      "Services PN 2014 n'a pas les mêmes directions que Services PN 2015\n",
      "Services PN 2015 n'a pas les mêmes directions que Services PN 2016\n",
      "Services PN 2016 a les mêmes directions que Services PN 2017\n",
      "Services PN 2017 a les mêmes directions que Services PN 2018\n",
      "Services PN 2018 n'a pas les mêmes directions que Services PN 2019\n"
     ]
    }
   ],
   "source": [
    "dirDiff()"
   ]
  },
  {
   "cell_type": "code",
   "execution_count": 51,
   "metadata": {},
   "outputs": [],
   "source": [
    "def servicesDiff():\n",
    "    for i in range(len(liste)-1):\n",
    "        if set(police[liste[i]]['service']) == set(police[liste[i+1]]['service']):\n",
    "            print(str(liste[i])+ ' a les mêmes services que ' + str(liste[i+1]))\n",
    "        else:\n",
    "            print(str(liste[i])+ ' n\\'a pas les mêmes services que ' +str(liste[i+1]))"
   ]
  },
  {
   "cell_type": "code",
   "execution_count": 52,
   "metadata": {},
   "outputs": [
    {
     "name": "stdout",
     "output_type": "stream",
     "text": [
      "Services PN 2012 n'a pas les mêmes services que Services PN 2013\n",
      "Services PN 2013 n'a pas les mêmes services que Services PN 2014\n",
      "Services PN 2014 n'a pas les mêmes services que Services PN 2015\n",
      "Services PN 2015 n'a pas les mêmes services que Services PN 2016\n",
      "Services PN 2016 n'a pas les mêmes services que Services PN 2017\n",
      "Services PN 2017 n'a pas les mêmes services que Services PN 2018\n",
      "Services PN 2018 n'a pas les mêmes services que Services PN 2019\n"
     ]
    }
   ],
   "source": [
    "servicesDiff()"
   ]
  },
  {
   "cell_type": "code",
   "execution_count": 53,
   "metadata": {},
   "outputs": [],
   "source": [
    "def serviceDoublons():\n",
    "    df_doublon=pd.DataFrame({\n",
    "    'nomDoubon':[],\n",
    "    'numeroColonne':[],\n",
    "    'annee':[]\n",
    "    })\n",
    "    # obligé de créer liste vide pour récuprer doublons car je parse direct colonnes je ne les verra\n",
    "    # car df.columns va modifier nom variable\n",
    "    listeservice=[] \n",
    "    numerocol=[]\n",
    "    #nomdoublon=[]\n",
    "    for name in police:\n",
    "        for services in wb[name]['C3':str(openpyxl.utils.cell.get_column_letter(wb[name].max_column)+'3')]:\n",
    "            for service in services:\n",
    "                listeservice.append(service.value)\n",
    "                numerocol.append([service.value, service.column, name])        \n",
    "            nomdoublon=[item for item, count in collections.Counter(listeservice).items() if count > 1]\n",
    "            listedoublong=[nc for nc in numerocol if nc[0] in nomdoublon]\n",
    "            #countdoublon=[count[1] for count in  nomdoublon\n",
    "            if len(listedoublong)!=0:\n",
    "                df_doublon=pd.concat([df_doublon,pd.DataFrame(listedoublong).rename(columns={0:'nomDoubon', \n",
    "                                                                                                 1:'numeroColonne',\n",
    "                                                                                                 2:'annee'})])\n",
    "        listeservice=[]\n",
    "        numerocol=[]\n",
    "    \n",
    "    if len(df_doublon) ==0:\n",
    "        return 'Il n\\'y a pas de doublons dans les noms de service sur une année'\n",
    "    else:\n",
    "        return 'voici la liste des doublons', df_doublon\n"
   ]
  },
  {
   "cell_type": "code",
   "execution_count": 54,
   "metadata": {},
   "outputs": [
    {
     "data": {
      "text/plain": [
       "\"Il n'y a pas de doublons dans les noms de service sur une année\""
      ]
     },
     "execution_count": 54,
     "metadata": {},
     "output_type": "execute_result"
    }
   ],
   "source": [
    "serviceDoublons()"
   ]
  },
  {
   "cell_type": "code",
   "execution_count": 55,
   "metadata": {},
   "outputs": [],
   "source": [
    "# check libelle et codeindex identiques pour tous les onglets\n",
    "def checkLibelle(fichier_excel):\n",
    "    liste_probleme=[]\n",
    "    df_check=pd.DataFrame({'Code index':[],\n",
    "                          'libelle':[]})\n",
    "    # on concat la 1ere année 2012\n",
    "    # pour éviter multiindexage on ne retient que les variables service (header 2 pour police)\n",
    "    df=pd.read_excel(fichier_excel,sheet_name=liste[0], header=2).rename(columns={'Libellé index \\\\ CGD':'libelle'})\n",
    "    df=df.iloc[:,[0,1]] # df avec uniquement colonne code index et libelle\n",
    "    df_check=pd.concat([df_check, df])\n",
    "    \n",
    "    # on concat df check avec les années suivantes\n",
    "    # on sépare les 2 process de concat pour que la comparaison se fasse à partir de la 2eme année\n",
    "    for sheetname in liste[1::]:\n",
    "         # on garde uniquement variable service pour éviter multiindexage (header=2 pour police)\n",
    "        df=pd.read_excel(fichier_excel,sheet_name=sheetname, header=2).rename(columns={'Libellé index \\\\ CGD':'libelle'})\n",
    "        df=df.iloc[:,[0,1]] # df avec uniquement colonne code index et libelle\n",
    "        df_check=pd.concat([df_check, df])\n",
    "        if len(df_check[['Code index', 'libelle']].drop_duplicates(keep=False))>0:\n",
    "            liste_probleme.append([str(sheetname), df_check[['Code index', 'libelle']].drop_duplicates(keep=False)])\n",
    "        \n",
    "    return liste_probleme"
   ]
  },
  {
   "cell_type": "code",
   "execution_count": 56,
   "metadata": {},
   "outputs": [
    {
     "data": {
      "text/plain": [
       "[]"
      ]
     },
     "execution_count": 56,
     "metadata": {},
     "output_type": "execute_result"
    }
   ],
   "source": [
    "checkLibelle(wbpd)"
   ]
  },
  {
   "cell_type": "raw",
   "metadata": {},
   "source": [
    ">>> les couples codeIndex-libelle sont bien identiques pour tous les onglets"
   ]
  },
  {
   "cell_type": "markdown",
   "metadata": {},
   "source": [
    "## <div class=\"alert alert-info\"> 3. Structuration table 'départements' </div> "
   ]
  },
  {
   "cell_type": "code",
   "execution_count": 85,
   "metadata": {},
   "outputs": [],
   "source": [
    "def tableDep():\n",
    "    #récupération fichier départements\n",
    "    url = 'https://www.data.gouv.fr/fr/datasets/r/0e016380-b70b-4443-a777-16f0bec7373e'\n",
    "    r = requests.get(url, allow_redirects=True)\n",
    "    with open('departements.zip', 'wb') as dd:\n",
    "        file=dd.write(r.content)\n",
    "\n",
    "    # unzip file\n",
    "    with ZipFile('departements.zip', 'r') as zip:\n",
    "        zip.extractall('departements')\n",
    "    \n",
    "    # création df departement de référence avec code et nom\n",
    "    df_ref_dep = pd.read_csv('departements/csv/departments.csv', \n",
    "                     usecols=['region_code','code', 'name']).rename(columns={'code':'numDep',\n",
    "                                                         'name':'nomDep',\n",
    "                                                         'region_code':'idRegion'})\n",
    "    \n",
    "    return df_ref_dep\n",
    "    \n",
    "    "
   ]
  },
  {
   "cell_type": "code",
   "execution_count": 86,
   "metadata": {},
   "outputs": [],
   "source": [
    "df_table_dep=tableDep()"
   ]
  },
  {
   "cell_type": "code",
   "execution_count": 91,
   "metadata": {},
   "outputs": [
    {
     "data": {
      "text/html": [
       "<div>\n",
       "<style scoped>\n",
       "    .dataframe tbody tr th:only-of-type {\n",
       "        vertical-align: middle;\n",
       "    }\n",
       "\n",
       "    .dataframe tbody tr th {\n",
       "        vertical-align: top;\n",
       "    }\n",
       "\n",
       "    .dataframe thead th {\n",
       "        text-align: right;\n",
       "    }\n",
       "</style>\n",
       "<table border=\"1\" class=\"dataframe\">\n",
       "  <thead>\n",
       "    <tr style=\"text-align: right;\">\n",
       "      <th></th>\n",
       "      <th>idRegion</th>\n",
       "      <th>numDep</th>\n",
       "      <th>nomDep</th>\n",
       "    </tr>\n",
       "  </thead>\n",
       "  <tbody>\n",
       "    <tr>\n",
       "      <th>0</th>\n",
       "      <td>84</td>\n",
       "      <td>01</td>\n",
       "      <td>Ain</td>\n",
       "    </tr>\n",
       "    <tr>\n",
       "      <th>1</th>\n",
       "      <td>32</td>\n",
       "      <td>02</td>\n",
       "      <td>Aisne</td>\n",
       "    </tr>\n",
       "    <tr>\n",
       "      <th>2</th>\n",
       "      <td>84</td>\n",
       "      <td>03</td>\n",
       "      <td>Allier</td>\n",
       "    </tr>\n",
       "    <tr>\n",
       "      <th>3</th>\n",
       "      <td>93</td>\n",
       "      <td>04</td>\n",
       "      <td>Alpes-de-Haute-Provence</td>\n",
       "    </tr>\n",
       "    <tr>\n",
       "      <th>4</th>\n",
       "      <td>93</td>\n",
       "      <td>05</td>\n",
       "      <td>Hautes-Alpes</td>\n",
       "    </tr>\n",
       "  </tbody>\n",
       "</table>\n",
       "</div>"
      ],
      "text/plain": [
       "  idRegion numDep                   nomDep\n",
       "0       84     01                      Ain\n",
       "1       32     02                    Aisne\n",
       "2       84     03                   Allier\n",
       "3       93     04  Alpes-de-Haute-Provence\n",
       "4       93     05             Hautes-Alpes"
      ]
     },
     "execution_count": 91,
     "metadata": {},
     "output_type": "execute_result"
    }
   ],
   "source": [
    "df_table_dep.head()"
   ]
  },
  {
   "cell_type": "code",
   "execution_count": 413,
   "metadata": {},
   "outputs": [
    {
     "name": "stdout",
     "output_type": "stream",
     "text": [
      "La table 'département' bien exportée en csv\n"
     ]
    }
   ],
   "source": [
    "#export csv pour sql import\n",
    "try:\n",
    "    df_table_dep.to_csv('fichiersPourImportSQL/export_departements.csv', index=False)\n",
    "except:\n",
    "    print('Problème dans  l\\'export du fichier csv département.')\n",
    "else:\n",
    "    print('La table \\'département\\' bien exportée en csv')\n"
   ]
  },
  {
   "cell_type": "markdown",
   "metadata": {},
   "source": [
    "## <div class=\"alert alert-info\"> 4. Structuration table 'region' </div> "
   ]
  },
  {
   "cell_type": "code",
   "execution_count": 389,
   "metadata": {},
   "outputs": [],
   "source": [
    "def tableRegion():\n",
    "    # création df region de référence avec code et nom\n",
    "    df_ref_reg = pd.read_csv('departements/csv/regions.csv', \n",
    "                     usecols=['code', 'name']).rename(columns={'code':'idRegion',\n",
    "                                                               'name':'nomRegion'\n",
    "    })\n",
    "    \n",
    "    return df_ref_reg\n",
    "    \n",
    "    "
   ]
  },
  {
   "cell_type": "code",
   "execution_count": 408,
   "metadata": {},
   "outputs": [],
   "source": [
    "df_table_region=tableRegion()"
   ]
  },
  {
   "cell_type": "code",
   "execution_count": 409,
   "metadata": {},
   "outputs": [
    {
     "data": {
      "text/html": [
       "<div>\n",
       "<style scoped>\n",
       "    .dataframe tbody tr th:only-of-type {\n",
       "        vertical-align: middle;\n",
       "    }\n",
       "\n",
       "    .dataframe tbody tr th {\n",
       "        vertical-align: top;\n",
       "    }\n",
       "\n",
       "    .dataframe thead th {\n",
       "        text-align: right;\n",
       "    }\n",
       "</style>\n",
       "<table border=\"1\" class=\"dataframe\">\n",
       "  <thead>\n",
       "    <tr style=\"text-align: right;\">\n",
       "      <th></th>\n",
       "      <th>idRegion</th>\n",
       "      <th>nomRegion</th>\n",
       "    </tr>\n",
       "  </thead>\n",
       "  <tbody>\n",
       "    <tr>\n",
       "      <th>0</th>\n",
       "      <td>01</td>\n",
       "      <td>Guadeloupe</td>\n",
       "    </tr>\n",
       "    <tr>\n",
       "      <th>1</th>\n",
       "      <td>02</td>\n",
       "      <td>Martinique</td>\n",
       "    </tr>\n",
       "    <tr>\n",
       "      <th>2</th>\n",
       "      <td>03</td>\n",
       "      <td>Guyane</td>\n",
       "    </tr>\n",
       "    <tr>\n",
       "      <th>3</th>\n",
       "      <td>04</td>\n",
       "      <td>La Réunion</td>\n",
       "    </tr>\n",
       "    <tr>\n",
       "      <th>4</th>\n",
       "      <td>06</td>\n",
       "      <td>Mayotte</td>\n",
       "    </tr>\n",
       "  </tbody>\n",
       "</table>\n",
       "</div>"
      ],
      "text/plain": [
       "  idRegion   nomRegion\n",
       "0       01  Guadeloupe\n",
       "1       02  Martinique\n",
       "2       03      Guyane\n",
       "3       04  La Réunion\n",
       "4       06     Mayotte"
      ]
     },
     "execution_count": 409,
     "metadata": {},
     "output_type": "execute_result"
    }
   ],
   "source": [
    "df_table_region.head()"
   ]
  },
  {
   "cell_type": "code",
   "execution_count": 410,
   "metadata": {},
   "outputs": [
    {
     "name": "stdout",
     "output_type": "stream",
     "text": [
      "La table 'région' a bien exportée en csv\n"
     ]
    }
   ],
   "source": [
    "#export csv pour sql import\n",
    "try:\n",
    "    df_table_region.to_csv('fichiersPourImportSQL/export_regions.csv', index=False)\n",
    "except:\n",
    "    print('Problème dans  l\\'export du fichier csv région.')\n",
    "else:\n",
    "    print('La table \\'région\\' a bien exportée en csv')"
   ]
  },
  {
   "cell_type": "markdown",
   "metadata": {},
   "source": [
    "## <div class=\"alert alert-info\"> 5. Structuration table 'direction' </div> "
   ]
  },
  {
   "cell_type": "code",
   "execution_count": 6,
   "metadata": {},
   "outputs": [],
   "source": [
    "# df de directions uniques\n",
    "def dirUnique():\n",
    "    liste_direction_unique = []\n",
    "    for year in liste:\n",
    "        for dir in police[year]['direction']:\n",
    "            if dir not in liste_direction_unique:\n",
    "                liste_direction_unique.append(dir)\n",
    "\n",
    "            \n",
    "    return pd.DataFrame(liste_direction_unique).rename(columns={0:'nomDirection'})"
   ]
  },
  {
   "cell_type": "code",
   "execution_count": 7,
   "metadata": {},
   "outputs": [
    {
     "data": {
      "text/html": [
       "<div>\n",
       "<style scoped>\n",
       "    .dataframe tbody tr th:only-of-type {\n",
       "        vertical-align: middle;\n",
       "    }\n",
       "\n",
       "    .dataframe tbody tr th {\n",
       "        vertical-align: top;\n",
       "    }\n",
       "\n",
       "    .dataframe thead th {\n",
       "        text-align: right;\n",
       "    }\n",
       "</style>\n",
       "<table border=\"1\" class=\"dataframe\">\n",
       "  <thead>\n",
       "    <tr style=\"text-align: right;\">\n",
       "      <th></th>\n",
       "      <th>nomDirection</th>\n",
       "    </tr>\n",
       "  </thead>\n",
       "  <tbody>\n",
       "    <tr>\n",
       "      <th>0</th>\n",
       "      <td>DCPAF</td>\n",
       "    </tr>\n",
       "    <tr>\n",
       "      <th>1</th>\n",
       "      <td>DCSP</td>\n",
       "    </tr>\n",
       "    <tr>\n",
       "      <th>2</th>\n",
       "      <td>DCPJ</td>\n",
       "    </tr>\n",
       "    <tr>\n",
       "      <th>3</th>\n",
       "      <td>DOPC</td>\n",
       "    </tr>\n",
       "    <tr>\n",
       "      <th>4</th>\n",
       "      <td>DRPJ</td>\n",
       "    </tr>\n",
       "    <tr>\n",
       "      <th>5</th>\n",
       "      <td>DSPAP</td>\n",
       "    </tr>\n",
       "    <tr>\n",
       "      <th>6</th>\n",
       "      <td>DCCRS</td>\n",
       "    </tr>\n",
       "    <tr>\n",
       "      <th>7</th>\n",
       "      <td>DIRECTION ORDRE PUBLIC ET CIRCULATION</td>\n",
       "    </tr>\n",
       "    <tr>\n",
       "      <th>8</th>\n",
       "      <td>DIRECTION REGIONALE PJ PARIS</td>\n",
       "    </tr>\n",
       "    <tr>\n",
       "      <th>9</th>\n",
       "      <td>DIRECTION SERVICES TECHN ET LOGISTIQUES</td>\n",
       "    </tr>\n",
       "  </tbody>\n",
       "</table>\n",
       "</div>"
      ],
      "text/plain": [
       "                              nomDirection\n",
       "0                                    DCPAF\n",
       "1                                     DCSP\n",
       "2                                     DCPJ\n",
       "3                                     DOPC\n",
       "4                                     DRPJ\n",
       "5                                    DSPAP\n",
       "6                                    DCCRS\n",
       "7    DIRECTION ORDRE PUBLIC ET CIRCULATION\n",
       "8             DIRECTION REGIONALE PJ PARIS\n",
       "9  DIRECTION SERVICES TECHN ET LOGISTIQUES"
      ]
     },
     "execution_count": 7,
     "metadata": {},
     "output_type": "execute_result"
    }
   ],
   "source": [
    "dirUnique()"
   ]
  },
  {
   "cell_type": "code",
   "execution_count": 27,
   "metadata": {},
   "outputs": [],
   "source": [
    "def tableDirection():\n",
    "    df_dir=dirUnique()\n",
    "    nomComplet_liste = ['Direction centrale de la Police aux frontières',\n",
    "                        'Direction centrale de la Sécurité publique',\n",
    "                        'Direction centrale de la Police judiciaire',\n",
    "                        'DIRECTION ORDRE PUBLIC ET CIRCULATION',\n",
    "                        'DIRECTION REGIONALE PJ PARIS',\n",
    "                        'Direction de la sécurité de proximité de l\\'agglomération parisienne',\n",
    "                        'Direction centrale des compagnies républicaines de sécurité',\n",
    "                        'DIRECTION SERVICES TECHN ET LOGISTIQUES']\n",
    "    \n",
    "    #renommage en sigles pour doublons (dopc et drpj existent à la fois en mode sigle et nom complet)\n",
    "    df_dir.nomDirection=df_dir.nomDirection.apply(lambda x: 'DOPC' if x=='DIRECTION ORDRE PUBLIC ET CIRCULATION'\n",
    "                                                      else ('DRPJ' if x=='DIRECTION REGIONALE PJ PARIS'\n",
    "                                                            else'DOSTL' if x=='DIRECTION SERVICES TECHN ET LOGISTIQUES'\n",
    "                                                            else x))\n",
    "\n",
    "    #retrait doublons suite à modification de nom\n",
    "    df_dir = df_dir.drop_duplicates(keep='first').dropna(axis=0).reset_index(drop=True)\n",
    "    \n",
    "    #colonne dirNomComplet:\n",
    "    df_dir['nomComplet']=[n for n in nomComplet_liste]\n",
    "    \n",
    "    #colonne idAdm (1 pour police):\n",
    "    df_dir['idAdm']=1\n",
    "    \n",
    "    return df_dir"
   ]
  },
  {
   "cell_type": "code",
   "execution_count": 28,
   "metadata": {},
   "outputs": [
    {
     "data": {
      "text/html": [
       "<div>\n",
       "<style scoped>\n",
       "    .dataframe tbody tr th:only-of-type {\n",
       "        vertical-align: middle;\n",
       "    }\n",
       "\n",
       "    .dataframe tbody tr th {\n",
       "        vertical-align: top;\n",
       "    }\n",
       "\n",
       "    .dataframe thead th {\n",
       "        text-align: right;\n",
       "    }\n",
       "</style>\n",
       "<table border=\"1\" class=\"dataframe\">\n",
       "  <thead>\n",
       "    <tr style=\"text-align: right;\">\n",
       "      <th></th>\n",
       "      <th>nomDirection</th>\n",
       "      <th>nomComplet</th>\n",
       "      <th>idAdm</th>\n",
       "    </tr>\n",
       "  </thead>\n",
       "  <tbody>\n",
       "    <tr>\n",
       "      <th>0</th>\n",
       "      <td>DCPAF</td>\n",
       "      <td>Direction centrale de la Police aux frontières</td>\n",
       "      <td>1</td>\n",
       "    </tr>\n",
       "    <tr>\n",
       "      <th>1</th>\n",
       "      <td>DCSP</td>\n",
       "      <td>Direction centrale de la Sécurité publique</td>\n",
       "      <td>1</td>\n",
       "    </tr>\n",
       "    <tr>\n",
       "      <th>2</th>\n",
       "      <td>DCPJ</td>\n",
       "      <td>Direction centrale de la Police judiciaire</td>\n",
       "      <td>1</td>\n",
       "    </tr>\n",
       "    <tr>\n",
       "      <th>3</th>\n",
       "      <td>DOPC</td>\n",
       "      <td>DIRECTION ORDRE PUBLIC ET CIRCULATION</td>\n",
       "      <td>1</td>\n",
       "    </tr>\n",
       "    <tr>\n",
       "      <th>4</th>\n",
       "      <td>DRPJ</td>\n",
       "      <td>DIRECTION REGIONALE PJ PARIS</td>\n",
       "      <td>1</td>\n",
       "    </tr>\n",
       "    <tr>\n",
       "      <th>5</th>\n",
       "      <td>DSPAP</td>\n",
       "      <td>Direction de la sécurité de proximité de l'agg...</td>\n",
       "      <td>1</td>\n",
       "    </tr>\n",
       "    <tr>\n",
       "      <th>6</th>\n",
       "      <td>DCCRS</td>\n",
       "      <td>Direction centrale des compagnies républicaine...</td>\n",
       "      <td>1</td>\n",
       "    </tr>\n",
       "    <tr>\n",
       "      <th>7</th>\n",
       "      <td>DOSTL</td>\n",
       "      <td>DIRECTION SERVICES TECHN ET LOGISTIQUES</td>\n",
       "      <td>1</td>\n",
       "    </tr>\n",
       "  </tbody>\n",
       "</table>\n",
       "</div>"
      ],
      "text/plain": [
       "  nomDirection                                         nomComplet  idAdm\n",
       "0        DCPAF     Direction centrale de la Police aux frontières      1\n",
       "1         DCSP         Direction centrale de la Sécurité publique      1\n",
       "2         DCPJ         Direction centrale de la Police judiciaire      1\n",
       "3         DOPC              DIRECTION ORDRE PUBLIC ET CIRCULATION      1\n",
       "4         DRPJ                       DIRECTION REGIONALE PJ PARIS      1\n",
       "5        DSPAP  Direction de la sécurité de proximité de l'agg...      1\n",
       "6        DCCRS  Direction centrale des compagnies républicaine...      1\n",
       "7        DOSTL            DIRECTION SERVICES TECHN ET LOGISTIQUES      1"
      ]
     },
     "execution_count": 28,
     "metadata": {},
     "output_type": "execute_result"
    }
   ],
   "source": [
    "df_table_direction=tableDirection()\n",
    "df_table_direction"
   ]
  },
  {
   "cell_type": "code",
   "execution_count": 29,
   "metadata": {},
   "outputs": [
    {
     "name": "stdout",
     "output_type": "stream",
     "text": [
      "La table 'direction' a bien exportée en csv \n"
     ]
    }
   ],
   "source": [
    "#export csv pour sql import\n",
    "try:\n",
    "    df_table_direction.to_csv('fichiersPourImportSQL/export_directions.csv', index=False)\n",
    "except:\n",
    "    print('Problème dans  l\\'export du fichier csv direction.')\n",
    "else:\n",
    "    print('La table \\'direction\\' a bien exportée en csv ')\n"
   ]
  },
  {
   "cell_type": "markdown",
   "metadata": {},
   "source": [
    "## <div class=\"alert alert-info\"> 6. Structuration table 'administration' </div> "
   ]
  },
  {
   "cell_type": "code",
   "execution_count": 403,
   "metadata": {},
   "outputs": [],
   "source": [
    "def tableAdministration():\n",
    "    \n",
    "    #creation df organe\n",
    "    df_administration= pd.DataFrame({\n",
    "        'nomAdm':['Police', 'Gendarmerie']\n",
    "    })\n",
    "    \n",
    "    return df_administration\n",
    "    \n",
    "    "
   ]
  },
  {
   "cell_type": "code",
   "execution_count": 404,
   "metadata": {},
   "outputs": [
    {
     "data": {
      "text/html": [
       "<div>\n",
       "<style scoped>\n",
       "    .dataframe tbody tr th:only-of-type {\n",
       "        vertical-align: middle;\n",
       "    }\n",
       "\n",
       "    .dataframe tbody tr th {\n",
       "        vertical-align: top;\n",
       "    }\n",
       "\n",
       "    .dataframe thead th {\n",
       "        text-align: right;\n",
       "    }\n",
       "</style>\n",
       "<table border=\"1\" class=\"dataframe\">\n",
       "  <thead>\n",
       "    <tr style=\"text-align: right;\">\n",
       "      <th></th>\n",
       "      <th>nomAdm</th>\n",
       "    </tr>\n",
       "  </thead>\n",
       "  <tbody>\n",
       "    <tr>\n",
       "      <th>0</th>\n",
       "      <td>Police</td>\n",
       "    </tr>\n",
       "    <tr>\n",
       "      <th>1</th>\n",
       "      <td>Gendarmerie</td>\n",
       "    </tr>\n",
       "  </tbody>\n",
       "</table>\n",
       "</div>"
      ],
      "text/plain": [
       "        nomAdm\n",
       "0       Police\n",
       "1  Gendarmerie"
      ]
     },
     "execution_count": 404,
     "metadata": {},
     "output_type": "execute_result"
    }
   ],
   "source": [
    "df_table_administration=tableAdministration()\n",
    "df_table_administration"
   ]
  },
  {
   "cell_type": "code",
   "execution_count": 405,
   "metadata": {},
   "outputs": [
    {
     "name": "stdout",
     "output_type": "stream",
     "text": [
      "La table 'administration' a bien exportée en csv: \n"
     ]
    }
   ],
   "source": [
    "#export csv pour sql import\n",
    "try:\n",
    "    df_table_administration.to_csv('fichiersPourImportSQL/export_administration.csv', index=False)\n",
    "except:\n",
    "    print('Problème dans  l\\'export du fichier csv administration.')\n",
    "else:\n",
    "    print('La table \\'administration\\' a bien exportée en csv: ')\n"
   ]
  },
  {
   "cell_type": "markdown",
   "metadata": {},
   "source": [
    "## <div class=\"alert alert-info\"> 7. Structuration table 'service' </div> "
   ]
  },
  {
   "cell_type": "code",
   "execution_count": 201,
   "metadata": {},
   "outputs": [],
   "source": [
    "def serviceUnique():\n",
    "    #creation liste de tous les services uniques depuis 2012\n",
    "    liste_service_unique = []\n",
    "    for year in liste: #liste=liste des keys dans dict police\n",
    "        for serv in police[year]['service']:\n",
    "            if serv not in liste_service_unique:\n",
    "                liste_service_unique.append(serv)\n",
    "\n",
    "                #df service intermédiaire\n",
    "                df_service_def = pd.DataFrame(liste_service_unique).reset_index().rename(columns=\n",
    "                                                                            {'index':'idService', 0:'nomService'})\n",
    "                #pour être raccord avec autincrementation dans SQL qui commence à 1 et non 0 :\n",
    "                df_service_def['idService'] = df_service_def['idService']+1\n",
    "    return df_service_def"
   ]
  },
  {
   "cell_type": "raw",
   "metadata": {},
   "source": [
    "utilité de df serviceUnique:\n",
    "pour servir à vérifier après que j'ai bien le même nombre de services uniques \n",
    "une fois la restructuration complètée  et pour merge avec table combinaisons uniques grâce à colonne IdService\n",
    "générée ici ainsi que pour merge dans table_pointage.\n"
   ]
  },
  {
   "cell_type": "code",
   "execution_count": null,
   "metadata": {},
   "outputs": [],
   "source": []
  },
  {
   "cell_type": "code",
   "execution_count": 414,
   "metadata": {},
   "outputs": [
    {
     "data": {
      "text/html": [
       "<div>\n",
       "<style scoped>\n",
       "    .dataframe tbody tr th:only-of-type {\n",
       "        vertical-align: middle;\n",
       "    }\n",
       "\n",
       "    .dataframe tbody tr th {\n",
       "        vertical-align: top;\n",
       "    }\n",
       "\n",
       "    .dataframe thead th {\n",
       "        text-align: right;\n",
       "    }\n",
       "</style>\n",
       "<table border=\"1\" class=\"dataframe\">\n",
       "  <thead>\n",
       "    <tr style=\"text-align: right;\">\n",
       "      <th></th>\n",
       "      <th>idService</th>\n",
       "      <th>nomService</th>\n",
       "    </tr>\n",
       "  </thead>\n",
       "  <tbody>\n",
       "    <tr>\n",
       "      <th>0</th>\n",
       "      <td>1</td>\n",
       "      <td>DIDPAF PREVESSIN 01</td>\n",
       "    </tr>\n",
       "    <tr>\n",
       "      <th>1</th>\n",
       "      <td>2</td>\n",
       "      <td>CIAT DE BOURG EN BRESSE</td>\n",
       "    </tr>\n",
       "    <tr>\n",
       "      <th>2</th>\n",
       "      <td>3</td>\n",
       "      <td>CIAT D'OYONNAX</td>\n",
       "    </tr>\n",
       "    <tr>\n",
       "      <th>3</th>\n",
       "      <td>4</td>\n",
       "      <td>CIAT DE CHATEAU THIERRY</td>\n",
       "    </tr>\n",
       "    <tr>\n",
       "      <th>4</th>\n",
       "      <td>5</td>\n",
       "      <td>CIAT DE LAON</td>\n",
       "    </tr>\n",
       "  </tbody>\n",
       "</table>\n",
       "</div>"
      ],
      "text/plain": [
       "   idService               nomService\n",
       "0          1      DIDPAF PREVESSIN 01\n",
       "1          2  CIAT DE BOURG EN BRESSE\n",
       "2          3           CIAT D'OYONNAX\n",
       "3          4  CIAT DE CHATEAU THIERRY\n",
       "4          5             CIAT DE LAON"
      ]
     },
     "execution_count": 414,
     "metadata": {},
     "output_type": "execute_result"
    }
   ],
   "source": [
    "df_services_unique=serviceUnique() \n",
    "df_services_unique.head()"
   ]
  },
  {
   "cell_type": "code",
   "execution_count": 203,
   "metadata": {},
   "outputs": [],
   "source": [
    "def depDirServList():   \n",
    "    # liste ordonnee departement, direction, serivce de toutes les années cumulées. Une sous-liste par année\n",
    "    liste_triplets_total = []\n",
    "    for name in police:\n",
    "        indices = [i for i in range(3, wb[name].max_column+1)]\n",
    "        indices_letter = [cell.get_column_letter(i) for i in indices]\n",
    "        list_temp = [(wb[name][v+'1':v+'3'][i][0].value) for v in indices_letter for i in range(len(wb[name][v+'1':v+'3']))]\n",
    "        liste_triplets_total.append(list_temp)\n",
    "    return liste_triplets_total"
   ]
  },
  {
   "cell_type": "code",
   "execution_count": 532,
   "metadata": {},
   "outputs": [
    {
     "data": {
      "text/plain": [
       "['01', 'DCPAF', 'DIDPAF PREVESSIN 01', '01', 'DCSP', 'CIAT DE BOURG EN BRESSE']"
      ]
     },
     "execution_count": 532,
     "metadata": {},
     "output_type": "execute_result"
    }
   ],
   "source": [
    "liste_dep_dir_Serv=depDirServList()\n",
    "liste_dep_dir_Serv[0][:6]"
   ]
  },
  {
   "cell_type": "code",
   "execution_count": 418,
   "metadata": {},
   "outputs": [],
   "source": [
    "def CombinaisonUniqueService():\n",
    "    # DF vierge\n",
    "    df_triplets = pd.DataFrame({\n",
    "        'numDep':[],\n",
    "        'nomDirection':[],\n",
    "        'nomService':[]\n",
    "    })\n",
    "\n",
    "    # creation liste des dataframe des combinaisons uniques dep-direction-service pour chaque années\n",
    "    # ATTENTION : doublons présents à éliminer après pour avoir uniquement des combinaisons uniques\n",
    "    frames_triplets = []\n",
    "    for l in liste_dep_dir_Serv:\n",
    "        subList = [l[n:n+3] for n in range(0, len(l), 3)] #sous-liste des conbinaisons dep-dir-service\n",
    "        df_triple_temp = pd.DataFrame(subList).rename(columns={0:'numDep', 1:'nomDirection', 2:'nomService'})\n",
    "        frames_triplets.append(df_triple_temp)\n",
    "\n",
    "        # assemblage des dataframe de la liste\n",
    "        df_triplets = pd.concat(frames_triplets) #assemblage de tous les df en un seul\n",
    "        \n",
    "        # suppression des duplicate rows\n",
    "        df_triplets_def = df_triplets.drop_duplicates(keep='first').dropna(axis=0) \n",
    "        #keep first pour garder uniquement valeur du 1er duplicate\n",
    "    #print(f'longeur du dataframe avec suppression doublon : {len(df_triplets)}\\nlongeur du dataframe avec suppression doublon : {len(df_triplets_def)}')\n",
    "    \n",
    "    return df_triplets_def"
   ]
  },
  {
   "cell_type": "code",
   "execution_count": 423,
   "metadata": {},
   "outputs": [
    {
     "data": {
      "text/html": [
       "<div>\n",
       "<style scoped>\n",
       "    .dataframe tbody tr th:only-of-type {\n",
       "        vertical-align: middle;\n",
       "    }\n",
       "\n",
       "    .dataframe tbody tr th {\n",
       "        vertical-align: top;\n",
       "    }\n",
       "\n",
       "    .dataframe thead th {\n",
       "        text-align: right;\n",
       "    }\n",
       "</style>\n",
       "<table border=\"1\" class=\"dataframe\">\n",
       "  <thead>\n",
       "    <tr style=\"text-align: right;\">\n",
       "      <th></th>\n",
       "      <th>numDep</th>\n",
       "      <th>nomDirection</th>\n",
       "      <th>nomService</th>\n",
       "    </tr>\n",
       "  </thead>\n",
       "  <tbody>\n",
       "    <tr>\n",
       "      <th>0</th>\n",
       "      <td>01</td>\n",
       "      <td>DCPAF</td>\n",
       "      <td>DIDPAF PREVESSIN 01</td>\n",
       "    </tr>\n",
       "    <tr>\n",
       "      <th>1</th>\n",
       "      <td>01</td>\n",
       "      <td>DCSP</td>\n",
       "      <td>CIAT DE BOURG EN BRESSE</td>\n",
       "    </tr>\n",
       "    <tr>\n",
       "      <th>2</th>\n",
       "      <td>01</td>\n",
       "      <td>DCSP</td>\n",
       "      <td>CIAT D'OYONNAX</td>\n",
       "    </tr>\n",
       "    <tr>\n",
       "      <th>3</th>\n",
       "      <td>02</td>\n",
       "      <td>DCSP</td>\n",
       "      <td>CIAT DE CHATEAU THIERRY</td>\n",
       "    </tr>\n",
       "    <tr>\n",
       "      <th>4</th>\n",
       "      <td>02</td>\n",
       "      <td>DCSP</td>\n",
       "      <td>CIAT DE LAON</td>\n",
       "    </tr>\n",
       "  </tbody>\n",
       "</table>\n",
       "</div>"
      ],
      "text/plain": [
       "  numDep nomDirection               nomService\n",
       "0     01        DCPAF      DIDPAF PREVESSIN 01\n",
       "1     01         DCSP  CIAT DE BOURG EN BRESSE\n",
       "2     01         DCSP           CIAT D'OYONNAX\n",
       "3     02         DCSP  CIAT DE CHATEAU THIERRY\n",
       "4     02         DCSP             CIAT DE LAON"
      ]
     },
     "execution_count": 423,
     "metadata": {},
     "output_type": "execute_result"
    }
   ],
   "source": [
    "df_combinaisons_uniques=CombinaisonUniqueService()\n",
    "df_combinaisons_uniques.head()"
   ]
  },
  {
   "cell_type": "code",
   "execution_count": 421,
   "metadata": {},
   "outputs": [],
   "source": [
    "def verifNombreService(df):\n",
    "    \n",
    "    nombre_service_unique = len(df_services_unique)\n",
    "    nombre_doublons_df = len(df[df.duplicated('nomService')])\n",
    "    nombre_total_combinaisons_unique = len(df)\n",
    "    \n",
    "    print(\n",
    "        f'Nombre de services uniques = {nombre_service_unique}\\n'\n",
    "    f'Nombre de doublons de services dans DF combinaisons uniques = {nombre_doublons_df}\\n'\n",
    "    f'Nombre total de combinaisons uniques dep-dir-service = {nombre_total_combinaisons_unique}\\n')\n",
    "    \n",
    "    if nombre_total_combinaisons_unique - nombre_doublons_df == nombre_service_unique:\n",
    "        return 'Nous avons bien le bon nombre de services uniques dans dans ls DF combinaisons uniques'\n",
    "    else:\n",
    "        return 'Il y a une erreur dans le nombre de services uniques. Pas raccord avec serviceUnique()'"
   ]
  },
  {
   "cell_type": "code",
   "execution_count": 424,
   "metadata": {},
   "outputs": [
    {
     "name": "stdout",
     "output_type": "stream",
     "text": [
      "Nombre de services uniques = 814\n",
      "Nombre de doublons de services dans DF combinaisons uniques = 30\n",
      "Nombre total de combinaisons uniques dep-dir-service = 844\n",
      "\n"
     ]
    },
    {
     "data": {
      "text/plain": [
       "'Nous avons bien le bon nombre de services uniques dans dans ls DF combinaisons uniques'"
      ]
     },
     "execution_count": 424,
     "metadata": {},
     "output_type": "execute_result"
    }
   ],
   "source": [
    "verifNombreService(df_combinaisons_uniques)"
   ]
  },
  {
   "cell_type": "code",
   "execution_count": 425,
   "metadata": {},
   "outputs": [],
   "source": [
    "def serviceMergeIdDirection():\n",
    "    \n",
    "    # CONVERSION noms complet de nom service en sigle pour éviter doublons avec sigles\n",
    "    df_combinaisons_uniques.nomDirection=df_combinaisons_uniques.nomDirection.apply(lambda x: 'DOPC' if x=='DIRECTION ORDRE PUBLIC ET CIRCULATION'\n",
    "                                                                                    else ('DRPJ' if x=='DIRECTION REGIONALE PJ PARIS'\n",
    "                                                                                          else'DOSTL' if x=='DIRECTION SERVICES TECHN ET LOGISTIQUES'\n",
    "                                                                                          else x))\n",
    "\n",
    "    #reset index du DF direction pour avoir uns colonne idDirection\n",
    "    df_direction=tableDirection()\n",
    "    df_direction=df_direction.reset_index()\n",
    "\n",
    "    # renommage colonne index pour idDirection\n",
    "    df_direction.rename(columns={'index':'idDirection'},inplace=True)\n",
    "\n",
    "    # ajout +1 à colonne id pour synchro avec autoincrementation SQL\n",
    "    df_direction.idDirection= df_direction.idDirection+1\n",
    "    \n",
    "    # left join entre df triplets et direction\n",
    "    df_tableService=df_combinaisons_uniques.merge(df_direction, \n",
    "                                                  how='left', \n",
    "                                                  left_on='nomDirection', \n",
    "                                                  right_on='nomDirection')\n",
    "    \n",
    "    return df_tableService"
   ]
  },
  {
   "cell_type": "code",
   "execution_count": 426,
   "metadata": {},
   "outputs": [
    {
     "data": {
      "text/html": [
       "<div>\n",
       "<style scoped>\n",
       "    .dataframe tbody tr th:only-of-type {\n",
       "        vertical-align: middle;\n",
       "    }\n",
       "\n",
       "    .dataframe tbody tr th {\n",
       "        vertical-align: top;\n",
       "    }\n",
       "\n",
       "    .dataframe thead th {\n",
       "        text-align: right;\n",
       "    }\n",
       "</style>\n",
       "<table border=\"1\" class=\"dataframe\">\n",
       "  <thead>\n",
       "    <tr style=\"text-align: right;\">\n",
       "      <th></th>\n",
       "      <th>numDep</th>\n",
       "      <th>nomDirection</th>\n",
       "      <th>nomService</th>\n",
       "      <th>idDirection</th>\n",
       "      <th>nomComplet</th>\n",
       "      <th>idAdm</th>\n",
       "    </tr>\n",
       "  </thead>\n",
       "  <tbody>\n",
       "    <tr>\n",
       "      <th>0</th>\n",
       "      <td>01</td>\n",
       "      <td>DCPAF</td>\n",
       "      <td>DIDPAF PREVESSIN 01</td>\n",
       "      <td>1</td>\n",
       "      <td>Direction centrale de la Police aux frontières</td>\n",
       "      <td>1</td>\n",
       "    </tr>\n",
       "    <tr>\n",
       "      <th>1</th>\n",
       "      <td>01</td>\n",
       "      <td>DCSP</td>\n",
       "      <td>CIAT DE BOURG EN BRESSE</td>\n",
       "      <td>2</td>\n",
       "      <td>Direction centrale de la Sécurité publique</td>\n",
       "      <td>1</td>\n",
       "    </tr>\n",
       "    <tr>\n",
       "      <th>2</th>\n",
       "      <td>01</td>\n",
       "      <td>DCSP</td>\n",
       "      <td>CIAT D'OYONNAX</td>\n",
       "      <td>2</td>\n",
       "      <td>Direction centrale de la Sécurité publique</td>\n",
       "      <td>1</td>\n",
       "    </tr>\n",
       "    <tr>\n",
       "      <th>3</th>\n",
       "      <td>02</td>\n",
       "      <td>DCSP</td>\n",
       "      <td>CIAT DE CHATEAU THIERRY</td>\n",
       "      <td>2</td>\n",
       "      <td>Direction centrale de la Sécurité publique</td>\n",
       "      <td>1</td>\n",
       "    </tr>\n",
       "    <tr>\n",
       "      <th>4</th>\n",
       "      <td>02</td>\n",
       "      <td>DCSP</td>\n",
       "      <td>CIAT DE LAON</td>\n",
       "      <td>2</td>\n",
       "      <td>Direction centrale de la Sécurité publique</td>\n",
       "      <td>1</td>\n",
       "    </tr>\n",
       "  </tbody>\n",
       "</table>\n",
       "</div>"
      ],
      "text/plain": [
       "  numDep nomDirection               nomService  idDirection  \\\n",
       "0     01        DCPAF      DIDPAF PREVESSIN 01            1   \n",
       "1     01         DCSP  CIAT DE BOURG EN BRESSE            2   \n",
       "2     01         DCSP           CIAT D'OYONNAX            2   \n",
       "3     02         DCSP  CIAT DE CHATEAU THIERRY            2   \n",
       "4     02         DCSP             CIAT DE LAON            2   \n",
       "\n",
       "                                       nomComplet  idAdm  \n",
       "0  Direction centrale de la Police aux frontières      1  \n",
       "1      Direction centrale de la Sécurité publique      1  \n",
       "2      Direction centrale de la Sécurité publique      1  \n",
       "3      Direction centrale de la Sécurité publique      1  \n",
       "4      Direction centrale de la Sécurité publique      1  "
      ]
     },
     "execution_count": 426,
     "metadata": {},
     "output_type": "execute_result"
    }
   ],
   "source": [
    "df_service_Merge_IdDirection=serviceMergeIdDirection()\n",
    "df_service_Merge_IdDirection.head()"
   ]
  },
  {
   "cell_type": "code",
   "execution_count": 427,
   "metadata": {},
   "outputs": [],
   "source": [
    "def tableServices():\n",
    "    \n",
    "    #left join entre df tableservice et nom service\n",
    "    df_tableService=df_service_Merge_IdDirection.merge(df_services_unique, \n",
    "                                                  how='left', \n",
    "                                                  left_on='nomService', \n",
    "                                                  right_on='nomService')\n",
    "\n",
    "    # suppression colonnes nomdirection car FK avec idDirection et suppression col idervice car PK AutoIncrement dans sql\n",
    "    df_tableService=df_tableService.drop(['nomDirection', 'idService', 'nomComplet'], axis=1)\n",
    "    \n",
    "    #suppression doublons\n",
    "    df_tableService = df_tableService.drop_duplicates(keep='first').dropna(axis=0)\n",
    "    \n",
    "    return df_tableService"
   ]
  },
  {
   "cell_type": "code",
   "execution_count": 428,
   "metadata": {},
   "outputs": [
    {
     "data": {
      "text/html": [
       "<div>\n",
       "<style scoped>\n",
       "    .dataframe tbody tr th:only-of-type {\n",
       "        vertical-align: middle;\n",
       "    }\n",
       "\n",
       "    .dataframe tbody tr th {\n",
       "        vertical-align: top;\n",
       "    }\n",
       "\n",
       "    .dataframe thead th {\n",
       "        text-align: right;\n",
       "    }\n",
       "</style>\n",
       "<table border=\"1\" class=\"dataframe\">\n",
       "  <thead>\n",
       "    <tr style=\"text-align: right;\">\n",
       "      <th></th>\n",
       "      <th>numDep</th>\n",
       "      <th>nomService</th>\n",
       "      <th>idDirection</th>\n",
       "      <th>idAdm</th>\n",
       "    </tr>\n",
       "  </thead>\n",
       "  <tbody>\n",
       "    <tr>\n",
       "      <th>0</th>\n",
       "      <td>01</td>\n",
       "      <td>DIDPAF PREVESSIN 01</td>\n",
       "      <td>1</td>\n",
       "      <td>1</td>\n",
       "    </tr>\n",
       "    <tr>\n",
       "      <th>1</th>\n",
       "      <td>01</td>\n",
       "      <td>CIAT DE BOURG EN BRESSE</td>\n",
       "      <td>2</td>\n",
       "      <td>1</td>\n",
       "    </tr>\n",
       "    <tr>\n",
       "      <th>2</th>\n",
       "      <td>01</td>\n",
       "      <td>CIAT D'OYONNAX</td>\n",
       "      <td>2</td>\n",
       "      <td>1</td>\n",
       "    </tr>\n",
       "    <tr>\n",
       "      <th>3</th>\n",
       "      <td>02</td>\n",
       "      <td>CIAT DE CHATEAU THIERRY</td>\n",
       "      <td>2</td>\n",
       "      <td>1</td>\n",
       "    </tr>\n",
       "    <tr>\n",
       "      <th>4</th>\n",
       "      <td>02</td>\n",
       "      <td>CIAT DE LAON</td>\n",
       "      <td>2</td>\n",
       "      <td>1</td>\n",
       "    </tr>\n",
       "  </tbody>\n",
       "</table>\n",
       "</div>"
      ],
      "text/plain": [
       "  numDep               nomService  idDirection  idAdm\n",
       "0     01      DIDPAF PREVESSIN 01            1      1\n",
       "1     01  CIAT DE BOURG EN BRESSE            2      1\n",
       "2     01           CIAT D'OYONNAX            2      1\n",
       "3     02  CIAT DE CHATEAU THIERRY            2      1\n",
       "4     02             CIAT DE LAON            2      1"
      ]
     },
     "execution_count": 428,
     "metadata": {},
     "output_type": "execute_result"
    }
   ],
   "source": [
    "df_table_service=tableServices()\n",
    "df_table_service.head()"
   ]
  },
  {
   "cell_type": "code",
   "execution_count": 429,
   "metadata": {},
   "outputs": [
    {
     "data": {
      "text/html": [
       "<div>\n",
       "<style scoped>\n",
       "    .dataframe tbody tr th:only-of-type {\n",
       "        vertical-align: middle;\n",
       "    }\n",
       "\n",
       "    .dataframe tbody tr th {\n",
       "        vertical-align: top;\n",
       "    }\n",
       "\n",
       "    .dataframe thead th {\n",
       "        text-align: right;\n",
       "    }\n",
       "</style>\n",
       "<table border=\"1\" class=\"dataframe\">\n",
       "  <thead>\n",
       "    <tr style=\"text-align: right;\">\n",
       "      <th></th>\n",
       "      <th>numDep</th>\n",
       "      <th>nomService</th>\n",
       "      <th>idDirection</th>\n",
       "      <th>idAdm</th>\n",
       "    </tr>\n",
       "  </thead>\n",
       "  <tbody>\n",
       "  </tbody>\n",
       "</table>\n",
       "</div>"
      ],
      "text/plain": [
       "Empty DataFrame\n",
       "Columns: [numDep, nomService, idDirection, idAdm]\n",
       "Index: []"
      ]
     },
     "execution_count": 429,
     "metadata": {},
     "output_type": "execute_result"
    }
   ],
   "source": [
    "#verification doublons\n",
    "df_table_service[df_table_service.duplicated()]"
   ]
  },
  {
   "cell_type": "code",
   "execution_count": 544,
   "metadata": {},
   "outputs": [],
   "source": [
    "# export csv pour import SQL\n",
    "service_to_sql = df_table_service.to_csv('fichiersPourImportSQL/export_services_police.csv', index=False)\n"
   ]
  },
  {
   "cell_type": "markdown",
   "metadata": {},
   "source": [
    "## <div class=\"alert alert-info\"> 8. Structuration table 'pointage' </div> "
   ]
  },
  {
   "cell_type": "code",
   "execution_count": 536,
   "metadata": {},
   "outputs": [],
   "source": [
    "def tablePointage():\n",
    "    # Création template DF final\n",
    "    df_pointage=pd.DataFrame({\n",
    "        'codeIndex':[],\n",
    "        'nomService':[],\n",
    "        'nbreInfractions':[],\n",
    "        'annee':[]\n",
    "    })\n",
    "\n",
    "    # liste pour accueillir df restructurés par année\n",
    "    df_pointage_liste = []\n",
    "\n",
    "    # loop pour aller récupérer dans chaque onglet police le nbre d'infractions / service/ code index ss orme de DF\n",
    "    for name in police:\n",
    "        df_temp = pd.read_excel('crimes-et-delits-enregistres-par-les-services-de-gendarmerie-et-de-police-depuis-2012.xlsx',\n",
    "                                sheet_name=name,\n",
    "                                header=[2], #ne retenir que la ligne 'services'\n",
    "                                # on ne garde que code index et pas libelle + services en ligne et aggregations nbre d'ifnractions:\n",
    "                                index_col=0).drop('Libellé index \\ CSP', axis=1).stack().reset_index().rename(\n",
    "            columns={'Code index':'codeIndex', 'level_1':'nomService', 0:'nbreInfractions'})\n",
    "        df_temp['annee']=str(name[-4:]) #récupération année à partir noms onglets et mise en colonne\n",
    "        df_pointage_liste.append(df_temp)\n",
    "\n",
    "    # concatener tous les df restructurés de chaque année\n",
    "    df_pointage=pd.concat(df_pointage_liste)\n",
    "\n",
    "    \n",
    "    return df_pointage"
   ]
  },
  {
   "cell_type": "code",
   "execution_count": 539,
   "metadata": {},
   "outputs": [],
   "source": [
    "df_table_pointage = tablePointage()\n"
   ]
  },
  {
   "cell_type": "code",
   "execution_count": 540,
   "metadata": {},
   "outputs": [
    {
     "data": {
      "text/html": [
       "<div>\n",
       "<style scoped>\n",
       "    .dataframe tbody tr th:only-of-type {\n",
       "        vertical-align: middle;\n",
       "    }\n",
       "\n",
       "    .dataframe tbody tr th {\n",
       "        vertical-align: top;\n",
       "    }\n",
       "\n",
       "    .dataframe thead th {\n",
       "        text-align: right;\n",
       "    }\n",
       "</style>\n",
       "<table border=\"1\" class=\"dataframe\">\n",
       "  <thead>\n",
       "    <tr style=\"text-align: right;\">\n",
       "      <th></th>\n",
       "      <th>codeIndex</th>\n",
       "      <th>nomService</th>\n",
       "      <th>nbreInfractions</th>\n",
       "      <th>annee</th>\n",
       "    </tr>\n",
       "  </thead>\n",
       "  <tbody>\n",
       "    <tr>\n",
       "      <th>72648</th>\n",
       "      <td>107</td>\n",
       "      <td>SPAF TAHITI FAAA</td>\n",
       "      <td>1</td>\n",
       "      <td>2019</td>\n",
       "    </tr>\n",
       "    <tr>\n",
       "      <th>72649</th>\n",
       "      <td>107</td>\n",
       "      <td>CIAT DE PAPEETE</td>\n",
       "      <td>82</td>\n",
       "      <td>2019</td>\n",
       "    </tr>\n",
       "    <tr>\n",
       "      <th>72650</th>\n",
       "      <td>107</td>\n",
       "      <td>DPAF UJI 988</td>\n",
       "      <td>1</td>\n",
       "      <td>2019</td>\n",
       "    </tr>\n",
       "    <tr>\n",
       "      <th>72651</th>\n",
       "      <td>107</td>\n",
       "      <td>SPAF NOUMEA LA TONTOUTA</td>\n",
       "      <td>0</td>\n",
       "      <td>2019</td>\n",
       "    </tr>\n",
       "    <tr>\n",
       "      <th>72652</th>\n",
       "      <td>107</td>\n",
       "      <td>CIAT DE NOUMEA</td>\n",
       "      <td>321</td>\n",
       "      <td>2019</td>\n",
       "    </tr>\n",
       "  </tbody>\n",
       "</table>\n",
       "</div>"
      ],
      "text/plain": [
       "       codeIndex               nomService  nbreInfractions annee\n",
       "72648        107         SPAF TAHITI FAAA                1  2019\n",
       "72649        107          CIAT DE PAPEETE               82  2019\n",
       "72650        107             DPAF UJI 988                1  2019\n",
       "72651        107  SPAF NOUMEA LA TONTOUTA                0  2019\n",
       "72652        107           CIAT DE NOUMEA              321  2019"
      ]
     },
     "execution_count": 540,
     "metadata": {},
     "output_type": "execute_result"
    }
   ],
   "source": [
    "df_table_pointage.tail()"
   ]
  },
  {
   "cell_type": "code",
   "execution_count": 541,
   "metadata": {},
   "outputs": [
    {
     "data": {
      "text/html": [
       "<div>\n",
       "<style scoped>\n",
       "    .dataframe tbody tr th:only-of-type {\n",
       "        vertical-align: middle;\n",
       "    }\n",
       "\n",
       "    .dataframe tbody tr th {\n",
       "        vertical-align: top;\n",
       "    }\n",
       "\n",
       "    .dataframe thead th {\n",
       "        text-align: right;\n",
       "    }\n",
       "</style>\n",
       "<table border=\"1\" class=\"dataframe\">\n",
       "  <thead>\n",
       "    <tr style=\"text-align: right;\">\n",
       "      <th></th>\n",
       "      <th>codeIndex</th>\n",
       "      <th>nomService</th>\n",
       "      <th>nbreInfractions</th>\n",
       "      <th>annee</th>\n",
       "    </tr>\n",
       "  </thead>\n",
       "  <tbody>\n",
       "  </tbody>\n",
       "</table>\n",
       "</div>"
      ],
      "text/plain": [
       "Empty DataFrame\n",
       "Columns: [codeIndex, nomService, nbreInfractions, annee]\n",
       "Index: []"
      ]
     },
     "execution_count": 541,
     "metadata": {},
     "output_type": "execute_result"
    }
   ],
   "source": [
    "#verification doublons\n",
    "df_table_pointage[df_table_pointage.duplicated()]"
   ]
  },
  {
   "cell_type": "code",
   "execution_count": 542,
   "metadata": {},
   "outputs": [
    {
     "data": {
      "text/html": [
       "<div>\n",
       "<style scoped>\n",
       "    .dataframe tbody tr th:only-of-type {\n",
       "        vertical-align: middle;\n",
       "    }\n",
       "\n",
       "    .dataframe tbody tr th {\n",
       "        vertical-align: top;\n",
       "    }\n",
       "\n",
       "    .dataframe thead th {\n",
       "        text-align: right;\n",
       "    }\n",
       "</style>\n",
       "<table border=\"1\" class=\"dataframe\">\n",
       "  <thead>\n",
       "    <tr style=\"text-align: right;\">\n",
       "      <th></th>\n",
       "      <th>codeIndex</th>\n",
       "      <th>nomService</th>\n",
       "      <th>nbreInfractions</th>\n",
       "      <th>annee</th>\n",
       "    </tr>\n",
       "  </thead>\n",
       "  <tbody>\n",
       "  </tbody>\n",
       "</table>\n",
       "</div>"
      ],
      "text/plain": [
       "Empty DataFrame\n",
       "Columns: [codeIndex, nomService, nbreInfractions, annee]\n",
       "Index: []"
      ]
     },
     "execution_count": 542,
     "metadata": {},
     "output_type": "execute_result"
    }
   ],
   "source": [
    "# verifications valeurs nulle:\n",
    "df_table_pointage[df_table_pointage.nbreInfractions.isnull()]"
   ]
  },
  {
   "cell_type": "code",
   "execution_count": 543,
   "metadata": {},
   "outputs": [],
   "source": [
    "# export CSV\n",
    "pointage_to_sql = df_table_pointage.to_csv('fichiersPourImportSQL/export_pointage_police.csv', index=False)"
   ]
  },
  {
   "cell_type": "code",
   "execution_count": null,
   "metadata": {},
   "outputs": [],
   "source": [
    "# merge entre nom services et idService du df_service_niques et drop colonne nomService \n",
    "    #df_pointage_def=df_pointage.merge(df_services_unique, \n",
    "                                          #how='left', \n",
    "                                          #left_on='nomService', \n",
    "                                          #right_on='nomService').drop('nomService', axis=1)\n"
   ]
  },
  {
   "cell_type": "markdown",
   "metadata": {},
   "source": [
    "## <div class=\"alert alert-info\"> 9. Structuration table 'indicateurs' </div> "
   ]
  },
  {
   "cell_type": "raw",
   "metadata": {},
   "source": []
  },
  {
   "cell_type": "code",
   "execution_count": 11,
   "metadata": {},
   "outputs": [
    {
     "data": {
      "text/html": [
       "<div>\n",
       "<style scoped>\n",
       "    .dataframe tbody tr th:only-of-type {\n",
       "        vertical-align: middle;\n",
       "    }\n",
       "\n",
       "    .dataframe tbody tr th {\n",
       "        vertical-align: top;\n",
       "    }\n",
       "\n",
       "    .dataframe thead th {\n",
       "        text-align: right;\n",
       "    }\n",
       "</style>\n",
       "<table border=\"1\" class=\"dataframe\">\n",
       "  <thead>\n",
       "    <tr style=\"text-align: right;\">\n",
       "      <th></th>\n",
       "      <th>nomIndic</th>\n",
       "    </tr>\n",
       "  </thead>\n",
       "  <tbody>\n",
       "    <tr>\n",
       "      <th>0</th>\n",
       "      <td>Homicides (y compris coups et blessures volont...</td>\n",
       "    </tr>\n",
       "    <tr>\n",
       "      <th>1</th>\n",
       "      <td>Vols avec armes (armes à feu, armes blanches o...</td>\n",
       "    </tr>\n",
       "    <tr>\n",
       "      <th>2</th>\n",
       "      <td>Vols violents sans arme</td>\n",
       "    </tr>\n",
       "    <tr>\n",
       "      <th>3</th>\n",
       "      <td>Vols sans violence contre des personnes</td>\n",
       "    </tr>\n",
       "    <tr>\n",
       "      <th>4</th>\n",
       "      <td>Coups et blessures volontaires (sur personnes ...</td>\n",
       "    </tr>\n",
       "    <tr>\n",
       "      <th>5</th>\n",
       "      <td>Cambriolages de logement</td>\n",
       "    </tr>\n",
       "    <tr>\n",
       "      <th>6</th>\n",
       "      <td>Vols de véhicules (automobiles ou deux roues m...</td>\n",
       "    </tr>\n",
       "    <tr>\n",
       "      <th>7</th>\n",
       "      <td>Vols dans les véhicules</td>\n",
       "    </tr>\n",
       "    <tr>\n",
       "      <th>8</th>\n",
       "      <td>Vols d’accessoires sur véhicules</td>\n",
       "    </tr>\n",
       "    <tr>\n",
       "      <th>9</th>\n",
       "      <td>Violences sexuelles</td>\n",
       "    </tr>\n",
       "    <tr>\n",
       "      <th>10</th>\n",
       "      <td>Escroqueries</td>\n",
       "    </tr>\n",
       "    <tr>\n",
       "      <th>11</th>\n",
       "      <td>Destructions et dégradations volontaires</td>\n",
       "    </tr>\n",
       "  </tbody>\n",
       "</table>\n",
       "</div>"
      ],
      "text/plain": [
       "                                             nomIndic\n",
       "0   Homicides (y compris coups et blessures volont...\n",
       "1   Vols avec armes (armes à feu, armes blanches o...\n",
       "2                            Vols violents sans arme \n",
       "3             Vols sans violence contre des personnes\n",
       "4   Coups et blessures volontaires (sur personnes ...\n",
       "5                            Cambriolages de logement\n",
       "6   Vols de véhicules (automobiles ou deux roues m...\n",
       "7                            Vols dans les véhicules \n",
       "8                   Vols d’accessoires sur véhicules \n",
       "9                                 Violences sexuelles\n",
       "10                                       Escroqueries\n",
       "11           Destructions et dégradations volontaires"
      ]
     },
     "execution_count": 11,
     "metadata": {},
     "output_type": "execute_result"
    }
   ],
   "source": [
    "df_noms_indicateurs = pd.read_csv('indicateurs_unites/indicateurs_liste.csv')\n",
    "df_noms_indicateurs"
   ]
  },
  {
   "cell_type": "code",
   "execution_count": 12,
   "metadata": {},
   "outputs": [],
   "source": [
    "def infrarename(x):\n",
    "            infraRename = [\n",
    "                'Cambriolages de logement',\n",
    "                'Coups et blessures volontaires',\n",
    "                'Destruct. et dégrad. volont.',\n",
    "                'Escroqueries',\n",
    "                'Homicides',\n",
    "                'Violences sexuelles',\n",
    "                'Vols avec armes',\n",
    "                'Vols dans les véhicules',\n",
    "                'Vols de véhicules',\n",
    "                'Vols d’accessoires sur véh.',\n",
    "                'Vols sans violence c/ des pers.',\n",
    "                'Vols violents sans arme '\n",
    "            ]\n",
    "            infraRename.sort()\n",
    "        \n",
    "            a = df_noms_indicateurs.nomIndic.tolist()\n",
    "            a.sort()\n",
    "            f = list(zip(a, infraRename))\n",
    "        \n",
    "            for i in range(len(f)):\n",
    "                if x == f[i][0]:\n",
    "                    x = f[i][1]\n",
    "                else:\n",
    "                    x = x\n",
    "            return x\n",
    "        "
   ]
  },
  {
   "cell_type": "code",
   "execution_count": 13,
   "metadata": {},
   "outputs": [],
   "source": [
    "df_noms_indicateurs['nomIndicLight'] = df_noms_indicateurs.nomIndic.apply(lambda x: infrarename(x))"
   ]
  },
  {
   "cell_type": "code",
   "execution_count": 14,
   "metadata": {},
   "outputs": [
    {
     "data": {
      "text/html": [
       "<div>\n",
       "<style scoped>\n",
       "    .dataframe tbody tr th:only-of-type {\n",
       "        vertical-align: middle;\n",
       "    }\n",
       "\n",
       "    .dataframe tbody tr th {\n",
       "        vertical-align: top;\n",
       "    }\n",
       "\n",
       "    .dataframe thead th {\n",
       "        text-align: right;\n",
       "    }\n",
       "</style>\n",
       "<table border=\"1\" class=\"dataframe\">\n",
       "  <thead>\n",
       "    <tr style=\"text-align: right;\">\n",
       "      <th></th>\n",
       "      <th>nomIndic</th>\n",
       "      <th>nomIndicLight</th>\n",
       "    </tr>\n",
       "  </thead>\n",
       "  <tbody>\n",
       "    <tr>\n",
       "      <th>0</th>\n",
       "      <td>Homicides (y compris coups et blessures volont...</td>\n",
       "      <td>Homicides</td>\n",
       "    </tr>\n",
       "    <tr>\n",
       "      <th>1</th>\n",
       "      <td>Vols avec armes (armes à feu, armes blanches o...</td>\n",
       "      <td>Vols avec armes</td>\n",
       "    </tr>\n",
       "    <tr>\n",
       "      <th>2</th>\n",
       "      <td>Vols violents sans arme</td>\n",
       "      <td>Vols violents sans arme</td>\n",
       "    </tr>\n",
       "    <tr>\n",
       "      <th>3</th>\n",
       "      <td>Vols sans violence contre des personnes</td>\n",
       "      <td>Vols sans violence c/ des pers.</td>\n",
       "    </tr>\n",
       "    <tr>\n",
       "      <th>4</th>\n",
       "      <td>Coups et blessures volontaires (sur personnes ...</td>\n",
       "      <td>Coups et blessures volontaires</td>\n",
       "    </tr>\n",
       "    <tr>\n",
       "      <th>5</th>\n",
       "      <td>Cambriolages de logement</td>\n",
       "      <td>Cambriolages de logement</td>\n",
       "    </tr>\n",
       "    <tr>\n",
       "      <th>6</th>\n",
       "      <td>Vols de véhicules (automobiles ou deux roues m...</td>\n",
       "      <td>Vols de véhicules</td>\n",
       "    </tr>\n",
       "    <tr>\n",
       "      <th>7</th>\n",
       "      <td>Vols dans les véhicules</td>\n",
       "      <td>Vols dans les véhicules</td>\n",
       "    </tr>\n",
       "    <tr>\n",
       "      <th>8</th>\n",
       "      <td>Vols d’accessoires sur véhicules</td>\n",
       "      <td>Vols d’accessoires sur véh.</td>\n",
       "    </tr>\n",
       "    <tr>\n",
       "      <th>9</th>\n",
       "      <td>Violences sexuelles</td>\n",
       "      <td>Violences sexuelles</td>\n",
       "    </tr>\n",
       "    <tr>\n",
       "      <th>10</th>\n",
       "      <td>Escroqueries</td>\n",
       "      <td>Escroqueries</td>\n",
       "    </tr>\n",
       "    <tr>\n",
       "      <th>11</th>\n",
       "      <td>Destructions et dégradations volontaires</td>\n",
       "      <td>Destruct. et dégrad. volont.</td>\n",
       "    </tr>\n",
       "  </tbody>\n",
       "</table>\n",
       "</div>"
      ],
      "text/plain": [
       "                                             nomIndic  \\\n",
       "0   Homicides (y compris coups et blessures volont...   \n",
       "1   Vols avec armes (armes à feu, armes blanches o...   \n",
       "2                            Vols violents sans arme    \n",
       "3             Vols sans violence contre des personnes   \n",
       "4   Coups et blessures volontaires (sur personnes ...   \n",
       "5                            Cambriolages de logement   \n",
       "6   Vols de véhicules (automobiles ou deux roues m...   \n",
       "7                            Vols dans les véhicules    \n",
       "8                   Vols d’accessoires sur véhicules    \n",
       "9                                 Violences sexuelles   \n",
       "10                                       Escroqueries   \n",
       "11           Destructions et dégradations volontaires   \n",
       "\n",
       "                      nomIndicLight  \n",
       "0                         Homicides  \n",
       "1                   Vols avec armes  \n",
       "2          Vols violents sans arme   \n",
       "3   Vols sans violence c/ des pers.  \n",
       "4    Coups et blessures volontaires  \n",
       "5          Cambriolages de logement  \n",
       "6                 Vols de véhicules  \n",
       "7           Vols dans les véhicules  \n",
       "8       Vols d’accessoires sur véh.  \n",
       "9               Violences sexuelles  \n",
       "10                     Escroqueries  \n",
       "11     Destruct. et dégrad. volont.  "
      ]
     },
     "execution_count": 14,
     "metadata": {},
     "output_type": "execute_result"
    }
   ],
   "source": [
    "df_noms_indicateurs"
   ]
  },
  {
   "cell_type": "code",
   "execution_count": 15,
   "metadata": {},
   "outputs": [],
   "source": [
    "def tableIndicateurs():\n",
    "    df_noms_indicateurs_def=df_noms_indicateurs.reset_index().rename(columns=\n",
    "                                                                 {'index':'idIndic'})\n",
    "\n",
    "    df_noms_indicateurs_def.idIndic= df_noms_indicateurs_def.idIndic.apply(lambda x: x+1)\n",
    "    \n",
    "    return df_noms_indicateurs_def"
   ]
  },
  {
   "cell_type": "code",
   "execution_count": 16,
   "metadata": {},
   "outputs": [
    {
     "data": {
      "text/html": [
       "<div>\n",
       "<style scoped>\n",
       "    .dataframe tbody tr th:only-of-type {\n",
       "        vertical-align: middle;\n",
       "    }\n",
       "\n",
       "    .dataframe tbody tr th {\n",
       "        vertical-align: top;\n",
       "    }\n",
       "\n",
       "    .dataframe thead th {\n",
       "        text-align: right;\n",
       "    }\n",
       "</style>\n",
       "<table border=\"1\" class=\"dataframe\">\n",
       "  <thead>\n",
       "    <tr style=\"text-align: right;\">\n",
       "      <th></th>\n",
       "      <th>idIndic</th>\n",
       "      <th>nomIndic</th>\n",
       "      <th>nomIndicLight</th>\n",
       "    </tr>\n",
       "  </thead>\n",
       "  <tbody>\n",
       "    <tr>\n",
       "      <th>0</th>\n",
       "      <td>1</td>\n",
       "      <td>Homicides (y compris coups et blessures volont...</td>\n",
       "      <td>Homicides</td>\n",
       "    </tr>\n",
       "    <tr>\n",
       "      <th>1</th>\n",
       "      <td>2</td>\n",
       "      <td>Vols avec armes (armes à feu, armes blanches o...</td>\n",
       "      <td>Vols avec armes</td>\n",
       "    </tr>\n",
       "    <tr>\n",
       "      <th>2</th>\n",
       "      <td>3</td>\n",
       "      <td>Vols violents sans arme</td>\n",
       "      <td>Vols violents sans arme</td>\n",
       "    </tr>\n",
       "    <tr>\n",
       "      <th>3</th>\n",
       "      <td>4</td>\n",
       "      <td>Vols sans violence contre des personnes</td>\n",
       "      <td>Vols sans violence c/ des pers.</td>\n",
       "    </tr>\n",
       "    <tr>\n",
       "      <th>4</th>\n",
       "      <td>5</td>\n",
       "      <td>Coups et blessures volontaires (sur personnes ...</td>\n",
       "      <td>Coups et blessures volontaires</td>\n",
       "    </tr>\n",
       "    <tr>\n",
       "      <th>5</th>\n",
       "      <td>6</td>\n",
       "      <td>Cambriolages de logement</td>\n",
       "      <td>Cambriolages de logement</td>\n",
       "    </tr>\n",
       "    <tr>\n",
       "      <th>6</th>\n",
       "      <td>7</td>\n",
       "      <td>Vols de véhicules (automobiles ou deux roues m...</td>\n",
       "      <td>Vols de véhicules</td>\n",
       "    </tr>\n",
       "    <tr>\n",
       "      <th>7</th>\n",
       "      <td>8</td>\n",
       "      <td>Vols dans les véhicules</td>\n",
       "      <td>Vols dans les véhicules</td>\n",
       "    </tr>\n",
       "    <tr>\n",
       "      <th>8</th>\n",
       "      <td>9</td>\n",
       "      <td>Vols d’accessoires sur véhicules</td>\n",
       "      <td>Vols d’accessoires sur véh.</td>\n",
       "    </tr>\n",
       "    <tr>\n",
       "      <th>9</th>\n",
       "      <td>10</td>\n",
       "      <td>Violences sexuelles</td>\n",
       "      <td>Violences sexuelles</td>\n",
       "    </tr>\n",
       "    <tr>\n",
       "      <th>10</th>\n",
       "      <td>11</td>\n",
       "      <td>Escroqueries</td>\n",
       "      <td>Escroqueries</td>\n",
       "    </tr>\n",
       "    <tr>\n",
       "      <th>11</th>\n",
       "      <td>12</td>\n",
       "      <td>Destructions et dégradations volontaires</td>\n",
       "      <td>Destruct. et dégrad. volont.</td>\n",
       "    </tr>\n",
       "  </tbody>\n",
       "</table>\n",
       "</div>"
      ],
      "text/plain": [
       "    idIndic                                           nomIndic  \\\n",
       "0         1  Homicides (y compris coups et blessures volont...   \n",
       "1         2  Vols avec armes (armes à feu, armes blanches o...   \n",
       "2         3                           Vols violents sans arme    \n",
       "3         4            Vols sans violence contre des personnes   \n",
       "4         5  Coups et blessures volontaires (sur personnes ...   \n",
       "5         6                           Cambriolages de logement   \n",
       "6         7  Vols de véhicules (automobiles ou deux roues m...   \n",
       "7         8                           Vols dans les véhicules    \n",
       "8         9                  Vols d’accessoires sur véhicules    \n",
       "9        10                                Violences sexuelles   \n",
       "10       11                                       Escroqueries   \n",
       "11       12           Destructions et dégradations volontaires   \n",
       "\n",
       "                      nomIndicLight  \n",
       "0                         Homicides  \n",
       "1                   Vols avec armes  \n",
       "2          Vols violents sans arme   \n",
       "3   Vols sans violence c/ des pers.  \n",
       "4    Coups et blessures volontaires  \n",
       "5          Cambriolages de logement  \n",
       "6                 Vols de véhicules  \n",
       "7           Vols dans les véhicules  \n",
       "8       Vols d’accessoires sur véh.  \n",
       "9               Violences sexuelles  \n",
       "10                     Escroqueries  \n",
       "11     Destruct. et dégrad. volont.  "
      ]
     },
     "execution_count": 16,
     "metadata": {},
     "output_type": "execute_result"
    }
   ],
   "source": [
    "df_table_indicateur = tableIndicateurs()\n",
    "df_table_indicateur"
   ]
  },
  {
   "cell_type": "code",
   "execution_count": 18,
   "metadata": {},
   "outputs": [],
   "source": [
    "# export CSV sans solonne id (généré automatiquement dans SQL)\n",
    "indicateur_to_sql = df_table_indicateur.to_csv(\n",
    "    'fichiersPourImportSQL/export_indicateurs.csv', columns= ['nomIndic', 'nomIndicLight'],index=False)\n",
    "\n"
   ]
  },
  {
   "cell_type": "markdown",
   "metadata": {},
   "source": [
    "## <div class=\"alert alert-info\"> 10. Structuration table 'UniteCompte' </div> "
   ]
  },
  {
   "cell_type": "code",
   "execution_count": 509,
   "metadata": {},
   "outputs": [],
   "source": [
    "#df des unités de comptes reliés à leur code index correspondant\n",
    "df_uc_index=pd.read_csv('indicateurs_unites/unitesDeComptes.csv', skiprows=2, usecols=[0,2]).rename(columns={\n",
    "    'Numéro de l\\'index':'codeIndex', 'Unités de compte':'nomUc'\n",
    "})"
   ]
  },
  {
   "cell_type": "code",
   "execution_count": 510,
   "metadata": {},
   "outputs": [
    {
     "data": {
      "text/html": [
       "<div>\n",
       "<style scoped>\n",
       "    .dataframe tbody tr th:only-of-type {\n",
       "        vertical-align: middle;\n",
       "    }\n",
       "\n",
       "    .dataframe tbody tr th {\n",
       "        vertical-align: top;\n",
       "    }\n",
       "\n",
       "    .dataframe thead th {\n",
       "        text-align: right;\n",
       "    }\n",
       "</style>\n",
       "<table border=\"1\" class=\"dataframe\">\n",
       "  <thead>\n",
       "    <tr style=\"text-align: right;\">\n",
       "      <th></th>\n",
       "      <th>codeIndex</th>\n",
       "      <th>nomUc</th>\n",
       "    </tr>\n",
       "  </thead>\n",
       "  <tbody>\n",
       "    <tr>\n",
       "      <th>0</th>\n",
       "      <td>1</td>\n",
       "      <td>Victime</td>\n",
       "    </tr>\n",
       "    <tr>\n",
       "      <th>1</th>\n",
       "      <td>2</td>\n",
       "      <td>Victime</td>\n",
       "    </tr>\n",
       "    <tr>\n",
       "      <th>2</th>\n",
       "      <td>3</td>\n",
       "      <td>Victime</td>\n",
       "    </tr>\n",
       "    <tr>\n",
       "      <th>3</th>\n",
       "      <td>4</td>\n",
       "      <td>Victime</td>\n",
       "    </tr>\n",
       "    <tr>\n",
       "      <th>4</th>\n",
       "      <td>5</td>\n",
       "      <td>Victime</td>\n",
       "    </tr>\n",
       "  </tbody>\n",
       "</table>\n",
       "</div>"
      ],
      "text/plain": [
       "   codeIndex    nomUc\n",
       "0          1  Victime\n",
       "1          2  Victime\n",
       "2          3  Victime\n",
       "3          4  Victime\n",
       "4          5  Victime"
      ]
     },
     "execution_count": 510,
     "metadata": {},
     "output_type": "execute_result"
    }
   ],
   "source": [
    "df_uc_index.head()"
   ]
  },
  {
   "cell_type": "code",
   "execution_count": 511,
   "metadata": {},
   "outputs": [],
   "source": [
    "def tableUniteCompteUnique():\n",
    "    # creation df des untiés de comptes uniques\n",
    "    df_uc=pd.DataFrame({'nomUc':list(set(df_uc_index.nomUc))}).reset_index().rename(columns={'index':'idUc'})\n",
    "    \n",
    "    #ajout +1 ) colonnes index pour raccord autoincrement sql\n",
    "    df_uc.idUc=df_uc.idUc+1\n",
    "   \n",
    "    return df_uc"
   ]
  },
  {
   "cell_type": "code",
   "execution_count": 512,
   "metadata": {},
   "outputs": [
    {
     "data": {
      "text/html": [
       "<div>\n",
       "<style scoped>\n",
       "    .dataframe tbody tr th:only-of-type {\n",
       "        vertical-align: middle;\n",
       "    }\n",
       "\n",
       "    .dataframe tbody tr th {\n",
       "        vertical-align: top;\n",
       "    }\n",
       "\n",
       "    .dataframe thead th {\n",
       "        text-align: right;\n",
       "    }\n",
       "</style>\n",
       "<table border=\"1\" class=\"dataframe\">\n",
       "  <thead>\n",
       "    <tr style=\"text-align: right;\">\n",
       "      <th></th>\n",
       "      <th>idUc</th>\n",
       "      <th>nomUc</th>\n",
       "    </tr>\n",
       "  </thead>\n",
       "  <tbody>\n",
       "    <tr>\n",
       "      <th>0</th>\n",
       "      <td>1</td>\n",
       "      <td>Victime entendue</td>\n",
       "    </tr>\n",
       "    <tr>\n",
       "      <th>1</th>\n",
       "      <td>2</td>\n",
       "      <td>Plaignant</td>\n",
       "    </tr>\n",
       "    <tr>\n",
       "      <th>2</th>\n",
       "      <td>3</td>\n",
       "      <td>Véhicule</td>\n",
       "    </tr>\n",
       "    <tr>\n",
       "      <th>3</th>\n",
       "      <td>4</td>\n",
       "      <td>Chèque</td>\n",
       "    </tr>\n",
       "    <tr>\n",
       "      <th>4</th>\n",
       "      <td>5</td>\n",
       "      <td>Infraction</td>\n",
       "    </tr>\n",
       "    <tr>\n",
       "      <th>5</th>\n",
       "      <td>6</td>\n",
       "      <td>Victime</td>\n",
       "    </tr>\n",
       "    <tr>\n",
       "      <th>6</th>\n",
       "      <td>7</td>\n",
       "      <td>Procédure</td>\n",
       "    </tr>\n",
       "    <tr>\n",
       "      <th>7</th>\n",
       "      <td>8</td>\n",
       "      <td>Auteur</td>\n",
       "    </tr>\n",
       "  </tbody>\n",
       "</table>\n",
       "</div>"
      ],
      "text/plain": [
       "   idUc             nomUc\n",
       "0     1  Victime entendue\n",
       "1     2         Plaignant\n",
       "2     3          Véhicule\n",
       "3     4            Chèque\n",
       "4     5        Infraction\n",
       "5     6           Victime\n",
       "6     7         Procédure\n",
       "7     8            Auteur"
      ]
     },
     "execution_count": 512,
     "metadata": {},
     "output_type": "execute_result"
    }
   ],
   "source": [
    "tableUniteCompteUnique()"
   ]
  },
  {
   "cell_type": "code",
   "execution_count": 513,
   "metadata": {},
   "outputs": [],
   "source": [
    "def tableUniteCompteMergeIndex():\n",
    "    \n",
    "    #merge df unités de comptes uniques avec code index\n",
    "    df_uc_index_def=df_uc_index.merge(tableUniteCompteUnique(), how='left', left_on='nomUc', right_on='nomUc')\n",
    "    return df_uc_index_def"
   ]
  },
  {
   "cell_type": "code",
   "execution_count": 514,
   "metadata": {},
   "outputs": [
    {
     "data": {
      "text/html": [
       "<div>\n",
       "<style scoped>\n",
       "    .dataframe tbody tr th:only-of-type {\n",
       "        vertical-align: middle;\n",
       "    }\n",
       "\n",
       "    .dataframe tbody tr th {\n",
       "        vertical-align: top;\n",
       "    }\n",
       "\n",
       "    .dataframe thead th {\n",
       "        text-align: right;\n",
       "    }\n",
       "</style>\n",
       "<table border=\"1\" class=\"dataframe\">\n",
       "  <thead>\n",
       "    <tr style=\"text-align: right;\">\n",
       "      <th></th>\n",
       "      <th>codeIndex</th>\n",
       "      <th>nomUc</th>\n",
       "      <th>idUc</th>\n",
       "    </tr>\n",
       "  </thead>\n",
       "  <tbody>\n",
       "    <tr>\n",
       "      <th>0</th>\n",
       "      <td>1</td>\n",
       "      <td>Victime</td>\n",
       "      <td>6</td>\n",
       "    </tr>\n",
       "    <tr>\n",
       "      <th>1</th>\n",
       "      <td>2</td>\n",
       "      <td>Victime</td>\n",
       "      <td>6</td>\n",
       "    </tr>\n",
       "    <tr>\n",
       "      <th>2</th>\n",
       "      <td>3</td>\n",
       "      <td>Victime</td>\n",
       "      <td>6</td>\n",
       "    </tr>\n",
       "    <tr>\n",
       "      <th>3</th>\n",
       "      <td>4</td>\n",
       "      <td>Victime</td>\n",
       "      <td>6</td>\n",
       "    </tr>\n",
       "    <tr>\n",
       "      <th>4</th>\n",
       "      <td>5</td>\n",
       "      <td>Victime</td>\n",
       "      <td>6</td>\n",
       "    </tr>\n",
       "    <tr>\n",
       "      <th>...</th>\n",
       "      <td>...</td>\n",
       "      <td>...</td>\n",
       "      <td>...</td>\n",
       "    </tr>\n",
       "    <tr>\n",
       "      <th>98</th>\n",
       "      <td>103</td>\n",
       "      <td>Procédure</td>\n",
       "      <td>7</td>\n",
       "    </tr>\n",
       "    <tr>\n",
       "      <th>99</th>\n",
       "      <td>104</td>\n",
       "      <td>Procédure</td>\n",
       "      <td>7</td>\n",
       "    </tr>\n",
       "    <tr>\n",
       "      <th>100</th>\n",
       "      <td>105</td>\n",
       "      <td>Procédure</td>\n",
       "      <td>7</td>\n",
       "    </tr>\n",
       "    <tr>\n",
       "      <th>101</th>\n",
       "      <td>106</td>\n",
       "      <td>Procédure</td>\n",
       "      <td>7</td>\n",
       "    </tr>\n",
       "    <tr>\n",
       "      <th>102</th>\n",
       "      <td>107</td>\n",
       "      <td>Procédure</td>\n",
       "      <td>7</td>\n",
       "    </tr>\n",
       "  </tbody>\n",
       "</table>\n",
       "<p>103 rows × 3 columns</p>\n",
       "</div>"
      ],
      "text/plain": [
       "     codeIndex      nomUc  idUc\n",
       "0            1    Victime     6\n",
       "1            2    Victime     6\n",
       "2            3    Victime     6\n",
       "3            4    Victime     6\n",
       "4            5    Victime     6\n",
       "..         ...        ...   ...\n",
       "98         103  Procédure     7\n",
       "99         104  Procédure     7\n",
       "100        105  Procédure     7\n",
       "101        106  Procédure     7\n",
       "102        107  Procédure     7\n",
       "\n",
       "[103 rows x 3 columns]"
      ]
     },
     "execution_count": 514,
     "metadata": {},
     "output_type": "execute_result"
    }
   ],
   "source": [
    "tableUniteCompteMergeIndex()"
   ]
  },
  {
   "cell_type": "code",
   "execution_count": 515,
   "metadata": {},
   "outputs": [],
   "source": [
    "# export CSV uniquement table unite de comptes uniques\n",
    "uniteComptes_to_sql = tableUniteCompteUnique().to_csv(\n",
    "    'fichiersPourImportSQL/export_uniteCompte.csv', columns= ['nomUc'],index=False)\n",
    "\n",
    "\n"
   ]
  },
  {
   "cell_type": "markdown",
   "metadata": {},
   "source": [
    "## <div class=\"alert alert-info\"> 11. Structuration table 'infractions' </div> "
   ]
  },
  {
   "cell_type": "code",
   "execution_count": 454,
   "metadata": {},
   "outputs": [],
   "source": [
    "# connexion indicateurs Id avec code index correspondant\n",
    "indicateurs={\n",
    "    1:[1,2,3,6,51],\n",
    "    2:[15,16,17,18,19,20,21,22],\n",
    "    3:[23,24,25,26],\n",
    "    4:[32,42,43],\n",
    "    5:[7],\n",
    "    6:[27,28],\n",
    "    7:[34,35,36],\n",
    "    8:[37],\n",
    "    9:[38],\n",
    "    10:[46,47,48,49],\n",
    "    11:[84,85,86,89,90,91,92],\n",
    "    12:[62,63,64,65,66,67,68]\n",
    "    \n",
    "}"
   ]
  },
  {
   "cell_type": "code",
   "execution_count": 471,
   "metadata": {},
   "outputs": [],
   "source": [
    "def infractionsUnique():\n",
    "    # les noms infraction et leur index = nomenclature unique pour chaque année. Je pars donc d'une seule anne\n",
    "    # pour créer ma liste unique d'infractions\n",
    "    df = pd.read_excel('crimes-et-delits-enregistres-par-les-services-de-gendarmerie-et-de-police-depuis-2012.xlsx',\n",
    "                  sheet_name='Services PN 2019',\n",
    "                  usecols='A:B',\n",
    "                   skiprows=[0,1]\n",
    "                  )   \n",
    "    df=df.rename(columns={'Code index':'codeIndex',\n",
    "                         'Libellé index \\ CSP':'libelle'})\n",
    "    \n",
    "    return df"
   ]
  },
  {
   "cell_type": "code",
   "execution_count": 472,
   "metadata": {},
   "outputs": [
    {
     "data": {
      "text/html": [
       "<div>\n",
       "<style scoped>\n",
       "    .dataframe tbody tr th:only-of-type {\n",
       "        vertical-align: middle;\n",
       "    }\n",
       "\n",
       "    .dataframe tbody tr th {\n",
       "        vertical-align: top;\n",
       "    }\n",
       "\n",
       "    .dataframe thead th {\n",
       "        text-align: right;\n",
       "    }\n",
       "</style>\n",
       "<table border=\"1\" class=\"dataframe\">\n",
       "  <thead>\n",
       "    <tr style=\"text-align: right;\">\n",
       "      <th></th>\n",
       "      <th>codeIndex</th>\n",
       "      <th>libelle</th>\n",
       "    </tr>\n",
       "  </thead>\n",
       "  <tbody>\n",
       "    <tr>\n",
       "      <th>0</th>\n",
       "      <td>1</td>\n",
       "      <td>Règlements de compte entre malfaireurs</td>\n",
       "    </tr>\n",
       "    <tr>\n",
       "      <th>1</th>\n",
       "      <td>2</td>\n",
       "      <td>Homicides pour voler et à l'occasion de vols</td>\n",
       "    </tr>\n",
       "    <tr>\n",
       "      <th>2</th>\n",
       "      <td>3</td>\n",
       "      <td>Homicides pour d'autres motifs</td>\n",
       "    </tr>\n",
       "    <tr>\n",
       "      <th>3</th>\n",
       "      <td>4</td>\n",
       "      <td>Tentatives d'homicides pour voler et à l'occas...</td>\n",
       "    </tr>\n",
       "    <tr>\n",
       "      <th>4</th>\n",
       "      <td>5</td>\n",
       "      <td>Tentatives homicides pour d'autres motifs</td>\n",
       "    </tr>\n",
       "  </tbody>\n",
       "</table>\n",
       "</div>"
      ],
      "text/plain": [
       "   codeIndex                                            libelle\n",
       "0          1             Règlements de compte entre malfaireurs\n",
       "1          2       Homicides pour voler et à l'occasion de vols\n",
       "2          3                     Homicides pour d'autres motifs\n",
       "3          4  Tentatives d'homicides pour voler et à l'occas...\n",
       "4          5          Tentatives homicides pour d'autres motifs"
      ]
     },
     "execution_count": 472,
     "metadata": {},
     "output_type": "execute_result"
    }
   ],
   "source": [
    "df_infractions_uniques=infractionsUnique()\n"
   ]
  },
  {
   "cell_type": "code",
   "execution_count": 473,
   "metadata": {},
   "outputs": [
    {
     "data": {
      "text/plain": [
       "107"
      ]
     },
     "execution_count": 473,
     "metadata": {},
     "output_type": "execute_result"
    }
   ],
   "source": [
    "len(df_infractions_uniques)"
   ]
  },
  {
   "cell_type": "code",
   "execution_count": 478,
   "metadata": {},
   "outputs": [],
   "source": [
    "#creation colonne IdIndic en connectant dic indicateurs et codeindex de df_infractions_uniques \n",
    "def infractionsIdIndic():\n",
    "    df_infractions_uniques['idIndic']=''\n",
    "\n",
    "    for i in range(len(df_infractions_uniques)):\n",
    "        for key, value in indicateurs.items():\n",
    "            if df_infractions_uniques.iloc[i,0] in value:\n",
    "                df_infractions_uniques.iloc[i,2]=key\n",
    "    return df_infractions_uniques"
   ]
  },
  {
   "cell_type": "code",
   "execution_count": 516,
   "metadata": {},
   "outputs": [],
   "source": [
    "df_infraction_idIndic=infractionsIdIndic()\n"
   ]
  },
  {
   "cell_type": "code",
   "execution_count": 517,
   "metadata": {},
   "outputs": [
    {
     "data": {
      "text/html": [
       "<div>\n",
       "<style scoped>\n",
       "    .dataframe tbody tr th:only-of-type {\n",
       "        vertical-align: middle;\n",
       "    }\n",
       "\n",
       "    .dataframe tbody tr th {\n",
       "        vertical-align: top;\n",
       "    }\n",
       "\n",
       "    .dataframe thead th {\n",
       "        text-align: right;\n",
       "    }\n",
       "</style>\n",
       "<table border=\"1\" class=\"dataframe\">\n",
       "  <thead>\n",
       "    <tr style=\"text-align: right;\">\n",
       "      <th></th>\n",
       "      <th>codeIndex</th>\n",
       "      <th>libelle</th>\n",
       "      <th>idIndic</th>\n",
       "    </tr>\n",
       "  </thead>\n",
       "  <tbody>\n",
       "    <tr>\n",
       "      <th>0</th>\n",
       "      <td>1</td>\n",
       "      <td>Règlements de compte entre malfaireurs</td>\n",
       "      <td>1</td>\n",
       "    </tr>\n",
       "    <tr>\n",
       "      <th>1</th>\n",
       "      <td>2</td>\n",
       "      <td>Homicides pour voler et à l'occasion de vols</td>\n",
       "      <td>1</td>\n",
       "    </tr>\n",
       "    <tr>\n",
       "      <th>2</th>\n",
       "      <td>3</td>\n",
       "      <td>Homicides pour d'autres motifs</td>\n",
       "      <td>1</td>\n",
       "    </tr>\n",
       "    <tr>\n",
       "      <th>5</th>\n",
       "      <td>6</td>\n",
       "      <td>Coups et blessures volontaires suivis de mort</td>\n",
       "      <td>1</td>\n",
       "    </tr>\n",
       "    <tr>\n",
       "      <th>6</th>\n",
       "      <td>7</td>\n",
       "      <td>Autres coups et blessures volontaires criminel...</td>\n",
       "      <td>5</td>\n",
       "    </tr>\n",
       "  </tbody>\n",
       "</table>\n",
       "</div>"
      ],
      "text/plain": [
       "   codeIndex                                            libelle idIndic\n",
       "0          1             Règlements de compte entre malfaireurs       1\n",
       "1          2       Homicides pour voler et à l'occasion de vols       1\n",
       "2          3                     Homicides pour d'autres motifs       1\n",
       "5          6      Coups et blessures volontaires suivis de mort       1\n",
       "6          7  Autres coups et blessures volontaires criminel...       5"
      ]
     },
     "execution_count": 517,
     "metadata": {},
     "output_type": "execute_result"
    }
   ],
   "source": [
    "df_infraction_idIndic[df_infraction_idIndic.idIndic!=''].head()"
   ]
  },
  {
   "cell_type": "code",
   "execution_count": 522,
   "metadata": {},
   "outputs": [],
   "source": [
    "def tableInfraction():\n",
    "    df_infractions_def=df_infraction_idIndic.merge(tableUniteCompteMergeIndex(), \n",
    "                                                   how='left',\n",
    "                                                   left_on='codeIndex', \n",
    "                                                   right_on='codeIndex').drop('nomUc', axis=1)\n",
    "    # convertir nan values en 0.0 \n",
    "    df_infractions_def.idUc.fillna(value=0.0, inplace=True)\n",
    "    \n",
    "    # conversion colonne en int\n",
    "    df_infractions_def.idUc=df_infractions_def.idUc.apply(lambda x: int(x))\n",
    "    \n",
    "    # remplacement 0 par ''\n",
    "    df_infractions_def.idUc=df_infractions_def.idUc.apply(lambda x: '' if  x==0 else x)\n",
    "    \n",
    "    return df_infractions_def "
   ]
  },
  {
   "cell_type": "code",
   "execution_count": 523,
   "metadata": {},
   "outputs": [],
   "source": [
    "df_table_infraction=tableInfraction()"
   ]
  },
  {
   "cell_type": "code",
   "execution_count": 524,
   "metadata": {},
   "outputs": [
    {
     "data": {
      "text/html": [
       "<div>\n",
       "<style scoped>\n",
       "    .dataframe tbody tr th:only-of-type {\n",
       "        vertical-align: middle;\n",
       "    }\n",
       "\n",
       "    .dataframe tbody tr th {\n",
       "        vertical-align: top;\n",
       "    }\n",
       "\n",
       "    .dataframe thead th {\n",
       "        text-align: right;\n",
       "    }\n",
       "</style>\n",
       "<table border=\"1\" class=\"dataframe\">\n",
       "  <thead>\n",
       "    <tr style=\"text-align: right;\">\n",
       "      <th></th>\n",
       "      <th>codeIndex</th>\n",
       "      <th>libelle</th>\n",
       "      <th>idIndic</th>\n",
       "      <th>idUc</th>\n",
       "    </tr>\n",
       "  </thead>\n",
       "  <tbody>\n",
       "    <tr>\n",
       "      <th>0</th>\n",
       "      <td>1</td>\n",
       "      <td>Règlements de compte entre malfaireurs</td>\n",
       "      <td>1</td>\n",
       "      <td>6</td>\n",
       "    </tr>\n",
       "    <tr>\n",
       "      <th>1</th>\n",
       "      <td>2</td>\n",
       "      <td>Homicides pour voler et à l'occasion de vols</td>\n",
       "      <td>1</td>\n",
       "      <td>6</td>\n",
       "    </tr>\n",
       "    <tr>\n",
       "      <th>2</th>\n",
       "      <td>3</td>\n",
       "      <td>Homicides pour d'autres motifs</td>\n",
       "      <td>1</td>\n",
       "      <td>6</td>\n",
       "    </tr>\n",
       "    <tr>\n",
       "      <th>3</th>\n",
       "      <td>4</td>\n",
       "      <td>Tentatives d'homicides pour voler et à l'occas...</td>\n",
       "      <td></td>\n",
       "      <td>6</td>\n",
       "    </tr>\n",
       "    <tr>\n",
       "      <th>4</th>\n",
       "      <td>5</td>\n",
       "      <td>Tentatives homicides pour d'autres motifs</td>\n",
       "      <td></td>\n",
       "      <td>6</td>\n",
       "    </tr>\n",
       "  </tbody>\n",
       "</table>\n",
       "</div>"
      ],
      "text/plain": [
       "   codeIndex                                            libelle idIndic idUc\n",
       "0          1             Règlements de compte entre malfaireurs       1    6\n",
       "1          2       Homicides pour voler et à l'occasion de vols       1    6\n",
       "2          3                     Homicides pour d'autres motifs       1    6\n",
       "3          4  Tentatives d'homicides pour voler et à l'occas...            6\n",
       "4          5          Tentatives homicides pour d'autres motifs            6"
      ]
     },
     "execution_count": 524,
     "metadata": {},
     "output_type": "execute_result"
    }
   ],
   "source": [
    "df_table_infraction.head()"
   ]
  },
  {
   "cell_type": "code",
   "execution_count": 526,
   "metadata": {},
   "outputs": [],
   "source": [
    "#export csv \n",
    "infractions_to_sql=df_table_infraction.to_csv('fichiersPourImportSQL/export_infractions.csv', index=False)"
   ]
  },
  {
   "cell_type": "markdown",
   "metadata": {},
   "source": [
    "## <div class=\"alert alert-info\"> 12. Structuration table 'démographie' </div> "
   ]
  },
  {
   "cell_type": "code",
   "execution_count": 6,
   "metadata": {},
   "outputs": [],
   "source": [
    "df_pop_2016 = pd.read_csv('../Demographie/data_population_densite_dep.csv', sep=';', header=[1], skiprows=1)"
   ]
  },
  {
   "cell_type": "code",
   "execution_count": 7,
   "metadata": {},
   "outputs": [
    {
     "data": {
      "text/html": [
       "<div>\n",
       "<style scoped>\n",
       "    .dataframe tbody tr th:only-of-type {\n",
       "        vertical-align: middle;\n",
       "    }\n",
       "\n",
       "    .dataframe tbody tr th {\n",
       "        vertical-align: top;\n",
       "    }\n",
       "\n",
       "    .dataframe thead th {\n",
       "        text-align: right;\n",
       "    }\n",
       "</style>\n",
       "<table border=\"1\" class=\"dataframe\">\n",
       "  <thead>\n",
       "    <tr style=\"text-align: right;\">\n",
       "      <th></th>\n",
       "      <th>Population au dernier recensement 2016</th>\n",
       "      <th>Densité de population 2016</th>\n",
       "    </tr>\n",
       "  </thead>\n",
       "  <tbody>\n",
       "    <tr>\n",
       "      <th>count</th>\n",
       "      <td>1.000000e+02</td>\n",
       "      <td>100.000000</td>\n",
       "    </tr>\n",
       "    <tr>\n",
       "      <th>mean</th>\n",
       "      <td>6.636166e+05</td>\n",
       "      <td>551.240000</td>\n",
       "    </tr>\n",
       "    <tr>\n",
       "      <th>std</th>\n",
       "      <td>5.060584e+05</td>\n",
       "      <td>2398.170308</td>\n",
       "    </tr>\n",
       "    <tr>\n",
       "      <th>min</th>\n",
       "      <td>7.642200e+04</td>\n",
       "      <td>3.200000</td>\n",
       "    </tr>\n",
       "    <tr>\n",
       "      <th>25%</th>\n",
       "      <td>3.016595e+05</td>\n",
       "      <td>49.950000</td>\n",
       "    </tr>\n",
       "    <tr>\n",
       "      <th>50%</th>\n",
       "      <td>5.346745e+05</td>\n",
       "      <td>85.400000</td>\n",
       "    </tr>\n",
       "    <tr>\n",
       "      <th>75%</th>\n",
       "      <td>8.308875e+05</td>\n",
       "      <td>170.550000</td>\n",
       "    </tr>\n",
       "    <tr>\n",
       "      <th>max</th>\n",
       "      <td>2.603723e+06</td>\n",
       "      <td>20860.300000</td>\n",
       "    </tr>\n",
       "  </tbody>\n",
       "</table>\n",
       "</div>"
      ],
      "text/plain": [
       "       Population au dernier recensement 2016  Densité de population 2016\n",
       "count                            1.000000e+02                  100.000000\n",
       "mean                             6.636166e+05                  551.240000\n",
       "std                              5.060584e+05                 2398.170308\n",
       "min                              7.642200e+04                    3.200000\n",
       "25%                              3.016595e+05                   49.950000\n",
       "50%                              5.346745e+05                   85.400000\n",
       "75%                              8.308875e+05                  170.550000\n",
       "max                              2.603723e+06                20860.300000"
      ]
     },
     "execution_count": 7,
     "metadata": {},
     "output_type": "execute_result"
    }
   ],
   "source": [
    "df_pop_2016.describe()"
   ]
  },
  {
   "cell_type": "code",
   "execution_count": 8,
   "metadata": {},
   "outputs": [
    {
     "data": {
      "text/html": [
       "<div>\n",
       "<style scoped>\n",
       "    .dataframe tbody tr th:only-of-type {\n",
       "        vertical-align: middle;\n",
       "    }\n",
       "\n",
       "    .dataframe tbody tr th {\n",
       "        vertical-align: top;\n",
       "    }\n",
       "\n",
       "    .dataframe thead th {\n",
       "        text-align: right;\n",
       "    }\n",
       "</style>\n",
       "<table border=\"1\" class=\"dataframe\">\n",
       "  <thead>\n",
       "    <tr style=\"text-align: right;\">\n",
       "      <th></th>\n",
       "      <th>Code</th>\n",
       "      <th>Libellé</th>\n",
       "      <th>Population au dernier recensement 2016</th>\n",
       "      <th>Densité de population 2016</th>\n",
       "    </tr>\n",
       "  </thead>\n",
       "  <tbody>\n",
       "    <tr>\n",
       "      <th>96</th>\n",
       "      <td>971</td>\n",
       "      <td>Guadeloupe</td>\n",
       "      <td>394110.0</td>\n",
       "      <td>242.2</td>\n",
       "    </tr>\n",
       "    <tr>\n",
       "      <th>97</th>\n",
       "      <td>972</td>\n",
       "      <td>Martinique</td>\n",
       "      <td>376480.0</td>\n",
       "      <td>334.1</td>\n",
       "    </tr>\n",
       "    <tr>\n",
       "      <th>98</th>\n",
       "      <td>973</td>\n",
       "      <td>Guyane</td>\n",
       "      <td>269352.0</td>\n",
       "      <td>3.2</td>\n",
       "    </tr>\n",
       "    <tr>\n",
       "      <th>99</th>\n",
       "      <td>974</td>\n",
       "      <td>Réunion</td>\n",
       "      <td>852924.0</td>\n",
       "      <td>340.6</td>\n",
       "    </tr>\n",
       "    <tr>\n",
       "      <th>100</th>\n",
       "      <td>976</td>\n",
       "      <td>Mayotte</td>\n",
       "      <td>NaN</td>\n",
       "      <td>NaN</td>\n",
       "    </tr>\n",
       "  </tbody>\n",
       "</table>\n",
       "</div>"
      ],
      "text/plain": [
       "    Code     Libellé  Population au dernier recensement 2016  \\\n",
       "96   971  Guadeloupe                                394110.0   \n",
       "97   972  Martinique                                376480.0   \n",
       "98   973      Guyane                                269352.0   \n",
       "99   974     Réunion                                852924.0   \n",
       "100  976     Mayotte                                     NaN   \n",
       "\n",
       "     Densité de population 2016  \n",
       "96                        242.2  \n",
       "97                        334.1  \n",
       "98                          3.2  \n",
       "99                        340.6  \n",
       "100                         NaN  "
      ]
     },
     "execution_count": 8,
     "metadata": {},
     "output_type": "execute_result"
    }
   ],
   "source": [
    "df_pop_2016.tail()"
   ]
  },
  {
   "cell_type": "code",
   "execution_count": 9,
   "metadata": {},
   "outputs": [],
   "source": [
    "def tableDemographie():\n",
    "    #renommer colonnes en raccord avec mpd\n",
    "    df_pop=df_pop_2016.rename(columns={\n",
    "    'Code':'numDep',\n",
    "    'Libellé':'nomDep',\n",
    "    'Densité de population 2016':'densite',\n",
    "    'Population au dernier recensement 2016':'nbrePopulation'\n",
    "})\n",
    "    #suppression colonne inutile\n",
    "    df_pop=df_pop.drop('nomDep', axis=1)\n",
    "    \n",
    "    #remplacement na par 0 pour éviter décimal (ATTENTION: REMPLACER CETTE VALEUR PAR NULL DANS SQL)\n",
    "    df_pop.nbrePopulation=df_pop.nbrePopulation.fillna(0)\n",
    "    \n",
    "    #remplacement na par 0 pour éviter décimal (ATTENTION: REMPLACER CETTE VALEUR PAR NULL DANS SQL)\n",
    "    df_pop.densite=df_pop.densite.fillna(0)\n",
    "    \n",
    "    #conversion colonne nbrepopulation en entier\n",
    "    df_pop.nbrePopulation=df_pop.nbrePopulation.apply(lambda x:int(x))\n",
    "    \n",
    "    #création colonne année de recensement\n",
    "    df_pop['anneeRecensement']=2016\n",
    "    \n",
    "    return df_pop"
   ]
  },
  {
   "cell_type": "code",
   "execution_count": 10,
   "metadata": {},
   "outputs": [],
   "source": [
    "df_table_demographie = tableDemographie()"
   ]
  },
  {
   "cell_type": "code",
   "execution_count": 11,
   "metadata": {},
   "outputs": [
    {
     "data": {
      "text/html": [
       "<div>\n",
       "<style scoped>\n",
       "    .dataframe tbody tr th:only-of-type {\n",
       "        vertical-align: middle;\n",
       "    }\n",
       "\n",
       "    .dataframe tbody tr th {\n",
       "        vertical-align: top;\n",
       "    }\n",
       "\n",
       "    .dataframe thead th {\n",
       "        text-align: right;\n",
       "    }\n",
       "</style>\n",
       "<table border=\"1\" class=\"dataframe\">\n",
       "  <thead>\n",
       "    <tr style=\"text-align: right;\">\n",
       "      <th></th>\n",
       "      <th>numDep</th>\n",
       "      <th>nbrePopulation</th>\n",
       "      <th>densite</th>\n",
       "      <th>anneeRecensement</th>\n",
       "    </tr>\n",
       "  </thead>\n",
       "  <tbody>\n",
       "    <tr>\n",
       "      <th>96</th>\n",
       "      <td>971</td>\n",
       "      <td>394110</td>\n",
       "      <td>242.2</td>\n",
       "      <td>2016</td>\n",
       "    </tr>\n",
       "    <tr>\n",
       "      <th>97</th>\n",
       "      <td>972</td>\n",
       "      <td>376480</td>\n",
       "      <td>334.1</td>\n",
       "      <td>2016</td>\n",
       "    </tr>\n",
       "    <tr>\n",
       "      <th>98</th>\n",
       "      <td>973</td>\n",
       "      <td>269352</td>\n",
       "      <td>3.2</td>\n",
       "      <td>2016</td>\n",
       "    </tr>\n",
       "    <tr>\n",
       "      <th>99</th>\n",
       "      <td>974</td>\n",
       "      <td>852924</td>\n",
       "      <td>340.6</td>\n",
       "      <td>2016</td>\n",
       "    </tr>\n",
       "    <tr>\n",
       "      <th>100</th>\n",
       "      <td>976</td>\n",
       "      <td>0</td>\n",
       "      <td>0.0</td>\n",
       "      <td>2016</td>\n",
       "    </tr>\n",
       "  </tbody>\n",
       "</table>\n",
       "</div>"
      ],
      "text/plain": [
       "    numDep  nbrePopulation  densite  anneeRecensement\n",
       "96     971          394110    242.2              2016\n",
       "97     972          376480    334.1              2016\n",
       "98     973          269352      3.2              2016\n",
       "99     974          852924    340.6              2016\n",
       "100    976               0      0.0              2016"
      ]
     },
     "execution_count": 11,
     "metadata": {},
     "output_type": "execute_result"
    }
   ],
   "source": [
    "df_table_demographie.tail()"
   ]
  },
  {
   "cell_type": "markdown",
   "metadata": {},
   "source": [
    "## <div class=\"alert alert-info\"> 13. Structuration table 'démographie' - Update 1 </div> "
   ]
  },
  {
   "cell_type": "raw",
   "metadata": {},
   "source": [
    ">>> IMPORTANT DE VÉRIFIER CONCORDANCCE AVEC NUMERO DEP"
   ]
  },
  {
   "cell_type": "code",
   "execution_count": 12,
   "metadata": {},
   "outputs": [],
   "source": [
    "# repartion ville par dep\n",
    "df_villes = pd.read_excel('https://www.insee.fr/fr/statistiques/fichier/2012729/TCRD_043.xls', \n",
    "                          header=3,\n",
    "                         skipfooter=1).rename(columns={\n",
    "    'Unnamed: 0':'numDep',\n",
    "    'Unnamed: 1': 'nomDep',\n",
    "    'Nombre de communes':'nbreCommunes',\n",
    "    'Part des com. de moins de 200 hab. (en %)':'partCom_moins_200',\n",
    "    'Part de la pop. vivant dans des com. de moins de 200 hab. (en %)':'partPop_moins_200',\n",
    "    'Part des com. de 200 à 9999 hab. (en %)':'partCom_200_9999',\n",
    "    'Part de la pop. vivant dans des com. de 200 à 9999 hab. (en %)':'partPop_200_9999',\n",
    "    'Part des com. de 10000 hab. ou plus (en %)': 'partCom_10000_plus',\n",
    "    'Part de la pop. vivant dans des com. de 10000 hab. ou plus (en %)':'partPop_10000_plus'\n",
    "    \n",
    "})"
   ]
  },
  {
   "cell_type": "code",
   "execution_count": 13,
   "metadata": {},
   "outputs": [
    {
     "data": {
      "text/plain": [
       "Index(['numDep', 'nomDep', 'nbreCommunes', 'partCom_moins_200',\n",
       "       'partPop_moins_200', 'partCom_200_9999', 'partPop_200_9999',\n",
       "       'partCom_10000_plus', 'partPop_10000_plus'],\n",
       "      dtype='object')"
      ]
     },
     "execution_count": 13,
     "metadata": {},
     "output_type": "execute_result"
    }
   ],
   "source": [
    "df_villes.columns"
   ]
  },
  {
   "cell_type": "code",
   "execution_count": 14,
   "metadata": {},
   "outputs": [
    {
     "data": {
      "text/html": [
       "<div>\n",
       "<style scoped>\n",
       "    .dataframe tbody tr th:only-of-type {\n",
       "        vertical-align: middle;\n",
       "    }\n",
       "\n",
       "    .dataframe tbody tr th {\n",
       "        vertical-align: top;\n",
       "    }\n",
       "\n",
       "    .dataframe thead th {\n",
       "        text-align: right;\n",
       "    }\n",
       "</style>\n",
       "<table border=\"1\" class=\"dataframe\">\n",
       "  <thead>\n",
       "    <tr style=\"text-align: right;\">\n",
       "      <th></th>\n",
       "      <th>numDep</th>\n",
       "      <th>nomDep</th>\n",
       "      <th>nbreCommunes</th>\n",
       "      <th>partCom_moins_200</th>\n",
       "      <th>partPop_moins_200</th>\n",
       "      <th>partCom_200_9999</th>\n",
       "      <th>partPop_200_9999</th>\n",
       "      <th>partCom_10000_plus</th>\n",
       "      <th>partPop_10000_plus</th>\n",
       "    </tr>\n",
       "  </thead>\n",
       "  <tbody>\n",
       "    <tr>\n",
       "      <th>96</th>\n",
       "      <td>M</td>\n",
       "      <td>France métropolitaine</td>\n",
       "      <td>34841</td>\n",
       "      <td>25.2</td>\n",
       "      <td>1.6</td>\n",
       "      <td>72.1</td>\n",
       "      <td>49.3</td>\n",
       "      <td>2.7</td>\n",
       "      <td>49.1</td>\n",
       "    </tr>\n",
       "    <tr>\n",
       "      <th>101</th>\n",
       "      <td>F</td>\n",
       "      <td>France hors Mayotte</td>\n",
       "      <td>34953</td>\n",
       "      <td>25.1</td>\n",
       "      <td>1.5</td>\n",
       "      <td>72.0</td>\n",
       "      <td>48.3</td>\n",
       "      <td>2.8</td>\n",
       "      <td>50.1</td>\n",
       "    </tr>\n",
       "  </tbody>\n",
       "</table>\n",
       "</div>"
      ],
      "text/plain": [
       "    numDep                 nomDep  nbreCommunes  partCom_moins_200  \\\n",
       "96       M  France métropolitaine         34841               25.2   \n",
       "101      F    France hors Mayotte         34953               25.1   \n",
       "\n",
       "     partPop_moins_200  partCom_200_9999  partPop_200_9999  \\\n",
       "96                 1.6              72.1              49.3   \n",
       "101                1.5              72.0              48.3   \n",
       "\n",
       "     partCom_10000_plus  partPop_10000_plus  \n",
       "96                  2.7                49.1  \n",
       "101                 2.8                50.1  "
      ]
     },
     "execution_count": 14,
     "metadata": {},
     "output_type": "execute_result"
    }
   ],
   "source": [
    "df_villes[(df_villes.numDep=='F') | (df_villes.numDep=='M')]"
   ]
  },
  {
   "cell_type": "code",
   "execution_count": 9,
   "metadata": {},
   "outputs": [],
   "source": [
    "# drop lignes inutiles (F etM)\n",
    "df_villes=df_villes.drop([101,96], axis=0)"
   ]
  },
  {
   "cell_type": "code",
   "execution_count": 21,
   "metadata": {},
   "outputs": [
    {
     "data": {
      "text/plain": [
       "{'976'}"
      ]
     },
     "execution_count": 21,
     "metadata": {},
     "output_type": "execute_result"
    }
   ],
   "source": [
    "#comparaison list dep avec df suivant\n",
    "set(df_age_pop.numDep.unique())-set(df_villes.numDep.unique())"
   ]
  },
  {
   "cell_type": "raw",
   "metadata": {},
   "source": [
    "un dep en plus des domtom pour df_Age_pop >> left merge sur agepop"
   ]
  },
  {
   "cell_type": "code",
   "execution_count": 44,
   "metadata": {},
   "outputs": [
    {
     "data": {
      "text/plain": [
       "{'976'}"
      ]
     },
     "execution_count": 44,
     "metadata": {},
     "output_type": "execute_result"
    }
   ],
   "source": [
    "set(df_table_demographie.numDep.unique())-set(df_villes.numDep.unique())"
   ]
  },
  {
   "cell_type": "code",
   "execution_count": 15,
   "metadata": {
    "scrolled": true
   },
   "outputs": [],
   "source": [
    "# repartition population par age\n",
    "df_age_pop=pd.read_csv('../Demographie/age_pop_dep_OBSTERRITOIRE.csv', sep=';', header=2).rename(columns={\n",
    "    'Code':'numDep',\n",
    "    'Libellé':'nomDep',\n",
    "    'Part des moins de 15 ans 2016':'age_15',\n",
    "    'Part des 15-29 ans 2016':'age_15_29',\n",
    "    'Part des 30-44 ans 2016':'age_30_44',\n",
    "    'Part des 45-59 ans 2016':'age_45_59',\n",
    "    'Part des 60-74 ans 2016':'age_60_74',\n",
    "    'Part des 75 ans et plus 2016':'age_75',\n",
    "    'Part des moins de 20 ans 2016':'age_20'\n",
    "})"
   ]
  },
  {
   "cell_type": "code",
   "execution_count": 16,
   "metadata": {},
   "outputs": [
    {
     "data": {
      "text/plain": [
       "set()"
      ]
     },
     "execution_count": 16,
     "metadata": {},
     "output_type": "execute_result"
    }
   ],
   "source": [
    "set(df_table_demographie.numDep.unique())-set(df_age_pop.numDep.unique())"
   ]
  },
  {
   "cell_type": "raw",
   "metadata": {},
   "source": [
    ">> ok pas de difference numDep"
   ]
  },
  {
   "cell_type": "code",
   "execution_count": 17,
   "metadata": {},
   "outputs": [],
   "source": [
    "# 1er merge entre les 2 nouvelles tables\n",
    "df_merge_age_villes=df_age_pop.drop('nomDep',axis=1).merge(df_villes.drop('nomDep', axis=1), \n",
    "                                                                          how='left', \n",
    "                                                                          on='numDep')"
   ]
  },
  {
   "cell_type": "code",
   "execution_count": 18,
   "metadata": {},
   "outputs": [
    {
     "data": {
      "text/plain": [
       "Index(['numDep', 'age_15', 'age_15_29', 'age_30_44', 'age_45_59', 'age_60_74',\n",
       "       'age_75', 'age_20', 'nbreCommunes', 'partCom_moins_200',\n",
       "       'partPop_moins_200', 'partCom_200_9999', 'partPop_200_9999',\n",
       "       'partCom_10000_plus', 'partPop_10000_plus'],\n",
       "      dtype='object')"
      ]
     },
     "execution_count": 18,
     "metadata": {},
     "output_type": "execute_result"
    }
   ],
   "source": [
    "df_merge_age_villes.columns"
   ]
  },
  {
   "cell_type": "code",
   "execution_count": 19,
   "metadata": {},
   "outputs": [
    {
     "data": {
      "text/html": [
       "<div>\n",
       "<style scoped>\n",
       "    .dataframe tbody tr th:only-of-type {\n",
       "        vertical-align: middle;\n",
       "    }\n",
       "\n",
       "    .dataframe tbody tr th {\n",
       "        vertical-align: top;\n",
       "    }\n",
       "\n",
       "    .dataframe thead th {\n",
       "        text-align: right;\n",
       "    }\n",
       "</style>\n",
       "<table border=\"1\" class=\"dataframe\">\n",
       "  <thead>\n",
       "    <tr style=\"text-align: right;\">\n",
       "      <th></th>\n",
       "      <th>numDep</th>\n",
       "      <th>age_15</th>\n",
       "      <th>age_15_29</th>\n",
       "      <th>age_30_44</th>\n",
       "      <th>age_45_59</th>\n",
       "      <th>age_60_74</th>\n",
       "      <th>age_75</th>\n",
       "      <th>age_20</th>\n",
       "      <th>nbreCommunes</th>\n",
       "      <th>partCom_moins_200</th>\n",
       "      <th>partPop_moins_200</th>\n",
       "      <th>partCom_200_9999</th>\n",
       "      <th>partPop_200_9999</th>\n",
       "      <th>partCom_10000_plus</th>\n",
       "      <th>partPop_10000_plus</th>\n",
       "    </tr>\n",
       "  </thead>\n",
       "  <tbody>\n",
       "    <tr>\n",
       "      <th>96</th>\n",
       "      <td>971</td>\n",
       "      <td>19.4</td>\n",
       "      <td>16.7</td>\n",
       "      <td>17.3</td>\n",
       "      <td>23.1</td>\n",
       "      <td>15.9</td>\n",
       "      <td>7.6</td>\n",
       "      <td>26.6</td>\n",
       "      <td>32.0</td>\n",
       "      <td>0.0</td>\n",
       "      <td>0.0</td>\n",
       "      <td>56.2</td>\n",
       "      <td>22.6</td>\n",
       "      <td>43.8</td>\n",
       "      <td>77.4</td>\n",
       "    </tr>\n",
       "    <tr>\n",
       "      <th>97</th>\n",
       "      <td>972</td>\n",
       "      <td>17.3</td>\n",
       "      <td>16.1</td>\n",
       "      <td>16.3</td>\n",
       "      <td>24.5</td>\n",
       "      <td>16.7</td>\n",
       "      <td>9.1</td>\n",
       "      <td>23.9</td>\n",
       "      <td>34.0</td>\n",
       "      <td>0.0</td>\n",
       "      <td>0.0</td>\n",
       "      <td>67.6</td>\n",
       "      <td>28.8</td>\n",
       "      <td>32.4</td>\n",
       "      <td>71.2</td>\n",
       "    </tr>\n",
       "    <tr>\n",
       "      <th>98</th>\n",
       "      <td>973</td>\n",
       "      <td>33.1</td>\n",
       "      <td>23.5</td>\n",
       "      <td>21.2</td>\n",
       "      <td>14.3</td>\n",
       "      <td>6.3</td>\n",
       "      <td>1.7</td>\n",
       "      <td>42.3</td>\n",
       "      <td>22.0</td>\n",
       "      <td>4.5</td>\n",
       "      <td>0.1</td>\n",
       "      <td>59.1</td>\n",
       "      <td>16.2</td>\n",
       "      <td>36.4</td>\n",
       "      <td>83.7</td>\n",
       "    </tr>\n",
       "    <tr>\n",
       "      <th>99</th>\n",
       "      <td>974</td>\n",
       "      <td>23.4</td>\n",
       "      <td>20.3</td>\n",
       "      <td>19.6</td>\n",
       "      <td>21.0</td>\n",
       "      <td>11.3</td>\n",
       "      <td>4.3</td>\n",
       "      <td>31.4</td>\n",
       "      <td>24.0</td>\n",
       "      <td>0.0</td>\n",
       "      <td>0.0</td>\n",
       "      <td>29.2</td>\n",
       "      <td>5.3</td>\n",
       "      <td>70.8</td>\n",
       "      <td>94.7</td>\n",
       "    </tr>\n",
       "    <tr>\n",
       "      <th>100</th>\n",
       "      <td>976</td>\n",
       "      <td>0.0</td>\n",
       "      <td>0.0</td>\n",
       "      <td>0.0</td>\n",
       "      <td>0.0</td>\n",
       "      <td>0.0</td>\n",
       "      <td>0.0</td>\n",
       "      <td>0.0</td>\n",
       "      <td>0.0</td>\n",
       "      <td>0.0</td>\n",
       "      <td>0.0</td>\n",
       "      <td>0.0</td>\n",
       "      <td>0.0</td>\n",
       "      <td>0.0</td>\n",
       "      <td>0.0</td>\n",
       "    </tr>\n",
       "  </tbody>\n",
       "</table>\n",
       "</div>"
      ],
      "text/plain": [
       "    numDep  age_15  age_15_29  age_30_44  age_45_59  age_60_74  age_75  \\\n",
       "96     971    19.4       16.7       17.3       23.1       15.9     7.6   \n",
       "97     972    17.3       16.1       16.3       24.5       16.7     9.1   \n",
       "98     973    33.1       23.5       21.2       14.3        6.3     1.7   \n",
       "99     974    23.4       20.3       19.6       21.0       11.3     4.3   \n",
       "100    976     0.0        0.0        0.0        0.0        0.0     0.0   \n",
       "\n",
       "     age_20  nbreCommunes  partCom_moins_200  partPop_moins_200  \\\n",
       "96     26.6          32.0                0.0                0.0   \n",
       "97     23.9          34.0                0.0                0.0   \n",
       "98     42.3          22.0                4.5                0.1   \n",
       "99     31.4          24.0                0.0                0.0   \n",
       "100     0.0           0.0                0.0                0.0   \n",
       "\n",
       "     partCom_200_9999  partPop_200_9999  partCom_10000_plus  \\\n",
       "96               56.2              22.6                43.8   \n",
       "97               67.6              28.8                32.4   \n",
       "98               59.1              16.2                36.4   \n",
       "99               29.2               5.3                70.8   \n",
       "100               0.0               0.0                 0.0   \n",
       "\n",
       "     partPop_10000_plus  \n",
       "96                 77.4  \n",
       "97                 71.2  \n",
       "98                 83.7  \n",
       "99                 94.7  \n",
       "100                 0.0  "
      ]
     },
     "execution_count": 19,
     "metadata": {},
     "output_type": "execute_result"
    }
   ],
   "source": [
    "# on remplace na par 0\n",
    "df_merge_age_villes=df_merge_age_villes.fillna(0)\n",
    "\n",
    "df_merge_age_villes.tail()\n"
   ]
  },
  {
   "cell_type": "code",
   "execution_count": 20,
   "metadata": {},
   "outputs": [
    {
     "data": {
      "text/html": [
       "<div>\n",
       "<style scoped>\n",
       "    .dataframe tbody tr th:only-of-type {\n",
       "        vertical-align: middle;\n",
       "    }\n",
       "\n",
       "    .dataframe tbody tr th {\n",
       "        vertical-align: top;\n",
       "    }\n",
       "\n",
       "    .dataframe thead th {\n",
       "        text-align: right;\n",
       "    }\n",
       "</style>\n",
       "<table border=\"1\" class=\"dataframe\">\n",
       "  <thead>\n",
       "    <tr style=\"text-align: right;\">\n",
       "      <th></th>\n",
       "      <th>numDep</th>\n",
       "      <th>nbrePopulation</th>\n",
       "      <th>densite</th>\n",
       "      <th>anneeRecensement</th>\n",
       "      <th>age_15</th>\n",
       "      <th>age_15_29</th>\n",
       "      <th>age_30_44</th>\n",
       "      <th>age_45_59</th>\n",
       "      <th>age_60_74</th>\n",
       "      <th>age_75</th>\n",
       "      <th>age_20</th>\n",
       "      <th>nbreCommunes</th>\n",
       "      <th>partCom_moins_200</th>\n",
       "      <th>partPop_moins_200</th>\n",
       "      <th>partCom_200_9999</th>\n",
       "      <th>partPop_200_9999</th>\n",
       "      <th>partCom_10000_plus</th>\n",
       "      <th>partPop_10000_plus</th>\n",
       "    </tr>\n",
       "  </thead>\n",
       "  <tbody>\n",
       "    <tr>\n",
       "      <th>0</th>\n",
       "      <td>01</td>\n",
       "      <td>638425</td>\n",
       "      <td>110.7</td>\n",
       "      <td>2016</td>\n",
       "      <td>20.2</td>\n",
       "      <td>16.3</td>\n",
       "      <td>20.1</td>\n",
       "      <td>20.6</td>\n",
       "      <td>14.9</td>\n",
       "      <td>7.9</td>\n",
       "      <td>26.2</td>\n",
       "      <td>393.0</td>\n",
       "      <td>11.7</td>\n",
       "      <td>0.9</td>\n",
       "      <td>86.8</td>\n",
       "      <td>80.4</td>\n",
       "      <td>1.5</td>\n",
       "      <td>18.7</td>\n",
       "    </tr>\n",
       "    <tr>\n",
       "      <th>1</th>\n",
       "      <td>02</td>\n",
       "      <td>536136</td>\n",
       "      <td>72.8</td>\n",
       "      <td>2016</td>\n",
       "      <td>19.2</td>\n",
       "      <td>16.6</td>\n",
       "      <td>18.2</td>\n",
       "      <td>20.2</td>\n",
       "      <td>16.6</td>\n",
       "      <td>9.2</td>\n",
       "      <td>25.4</td>\n",
       "      <td>800.0</td>\n",
       "      <td>38.4</td>\n",
       "      <td>6.8</td>\n",
       "      <td>60.8</td>\n",
       "      <td>63.6</td>\n",
       "      <td>0.9</td>\n",
       "      <td>29.7</td>\n",
       "    </tr>\n",
       "    <tr>\n",
       "      <th>2</th>\n",
       "      <td>03</td>\n",
       "      <td>339384</td>\n",
       "      <td>46.3</td>\n",
       "      <td>2016</td>\n",
       "      <td>15.4</td>\n",
       "      <td>14.1</td>\n",
       "      <td>16.2</td>\n",
       "      <td>20.7</td>\n",
       "      <td>20.1</td>\n",
       "      <td>13.4</td>\n",
       "      <td>20.8</td>\n",
       "      <td>317.0</td>\n",
       "      <td>16.4</td>\n",
       "      <td>2.3</td>\n",
       "      <td>82.0</td>\n",
       "      <td>66.6</td>\n",
       "      <td>1.6</td>\n",
       "      <td>31.1</td>\n",
       "    </tr>\n",
       "    <tr>\n",
       "      <th>3</th>\n",
       "      <td>04</td>\n",
       "      <td>162565</td>\n",
       "      <td>23.5</td>\n",
       "      <td>2016</td>\n",
       "      <td>16.1</td>\n",
       "      <td>13.8</td>\n",
       "      <td>16.5</td>\n",
       "      <td>21.3</td>\n",
       "      <td>20.2</td>\n",
       "      <td>12.2</td>\n",
       "      <td>21.5</td>\n",
       "      <td>198.0</td>\n",
       "      <td>42.9</td>\n",
       "      <td>5.6</td>\n",
       "      <td>56.1</td>\n",
       "      <td>70.8</td>\n",
       "      <td>1.0</td>\n",
       "      <td>23.7</td>\n",
       "    </tr>\n",
       "    <tr>\n",
       "      <th>4</th>\n",
       "      <td>05</td>\n",
       "      <td>141107</td>\n",
       "      <td>25.4</td>\n",
       "      <td>2016</td>\n",
       "      <td>16.8</td>\n",
       "      <td>14.2</td>\n",
       "      <td>17.8</td>\n",
       "      <td>21.3</td>\n",
       "      <td>18.6</td>\n",
       "      <td>11.2</td>\n",
       "      <td>22.3</td>\n",
       "      <td>162.0</td>\n",
       "      <td>31.5</td>\n",
       "      <td>3.9</td>\n",
       "      <td>67.3</td>\n",
       "      <td>58.9</td>\n",
       "      <td>1.2</td>\n",
       "      <td>37.2</td>\n",
       "    </tr>\n",
       "  </tbody>\n",
       "</table>\n",
       "</div>"
      ],
      "text/plain": [
       "  numDep  nbrePopulation  densite  anneeRecensement  age_15  age_15_29  \\\n",
       "0     01          638425    110.7              2016    20.2       16.3   \n",
       "1     02          536136     72.8              2016    19.2       16.6   \n",
       "2     03          339384     46.3              2016    15.4       14.1   \n",
       "3     04          162565     23.5              2016    16.1       13.8   \n",
       "4     05          141107     25.4              2016    16.8       14.2   \n",
       "\n",
       "   age_30_44  age_45_59  age_60_74  age_75  age_20  nbreCommunes  \\\n",
       "0       20.1       20.6       14.9     7.9    26.2         393.0   \n",
       "1       18.2       20.2       16.6     9.2    25.4         800.0   \n",
       "2       16.2       20.7       20.1    13.4    20.8         317.0   \n",
       "3       16.5       21.3       20.2    12.2    21.5         198.0   \n",
       "4       17.8       21.3       18.6    11.2    22.3         162.0   \n",
       "\n",
       "   partCom_moins_200  partPop_moins_200  partCom_200_9999  partPop_200_9999  \\\n",
       "0               11.7                0.9              86.8              80.4   \n",
       "1               38.4                6.8              60.8              63.6   \n",
       "2               16.4                2.3              82.0              66.6   \n",
       "3               42.9                5.6              56.1              70.8   \n",
       "4               31.5                3.9              67.3              58.9   \n",
       "\n",
       "   partCom_10000_plus  partPop_10000_plus  \n",
       "0                 1.5                18.7  \n",
       "1                 0.9                29.7  \n",
       "2                 1.6                31.1  \n",
       "3                 1.0                23.7  \n",
       "4                 1.2                37.2  "
      ]
     },
     "execution_count": 20,
     "metadata": {},
     "output_type": "execute_result"
    }
   ],
   "source": [
    "# merge 2 avec table demographie n°1\n",
    "df_tableDemographie_update1=df_table_demographie.merge(df_merge_age_villes, how='left', on='numDep')\n",
    "df_tableDemographie_update1.head()"
   ]
  },
  {
   "cell_type": "code",
   "execution_count": 21,
   "metadata": {},
   "outputs": [
    {
     "data": {
      "text/plain": [
       "Index(['numDep', 'nbrePopulation', 'densite', 'anneeRecensement', 'age_15',\n",
       "       'age_15_29', 'age_30_44', 'age_45_59', 'age_60_74', 'age_75', 'age_20',\n",
       "       'nbreCommunes', 'partCom_moins_200', 'partPop_moins_200',\n",
       "       'partCom_200_9999', 'partPop_200_9999', 'partCom_10000_plus',\n",
       "       'partPop_10000_plus'],\n",
       "      dtype='object')"
      ]
     },
     "execution_count": 21,
     "metadata": {},
     "output_type": "execute_result"
    }
   ],
   "source": [
    "df_tableDemographie_update1.columns"
   ]
  },
  {
   "cell_type": "code",
   "execution_count": 25,
   "metadata": {},
   "outputs": [
    {
     "data": {
      "text/plain": [
       "numDep                0\n",
       "nbrePopulation        0\n",
       "densite               0\n",
       "anneeRecensement      0\n",
       "age_15                0\n",
       "age_15_29             0\n",
       "age_30_44             0\n",
       "age_45_59             0\n",
       "age_60_74             0\n",
       "age_75                0\n",
       "age_20                0\n",
       "nbreCommunes          0\n",
       "partCom_moins_200     0\n",
       "partPop_moins_200     0\n",
       "partCom_200_9999      0\n",
       "partPop_200_9999      0\n",
       "partCom_10000_plus    0\n",
       "partPop_10000_plus    0\n",
       "dtype: int64"
      ]
     },
     "execution_count": 25,
     "metadata": {},
     "output_type": "execute_result"
    }
   ],
   "source": [
    "# check na values\n",
    "df_tableDemographie_update1.isna().sum()"
   ]
  },
  {
   "cell_type": "code",
   "execution_count": 53,
   "metadata": {},
   "outputs": [],
   "source": [
    "# export CSV\n",
    "df_tableDemographie_update1.to_csv('fichiersPourImportSQL/export_demographieUpdate1.csv', index=False)"
   ]
  },
  {
   "cell_type": "code",
   "execution_count": null,
   "metadata": {},
   "outputs": [],
   "source": []
  },
  {
   "cell_type": "code",
   "execution_count": 77,
   "metadata": {},
   "outputs": [],
   "source": [
    "# taux de chomage par ded et par -age\n",
    "df_chomage = pd.read_csv('../Demographie/chomage_dep_OBSTERRITOIRE.csv', sep=';',header=2)"
   ]
  },
  {
   "cell_type": "code",
   "execution_count": 84,
   "metadata": {},
   "outputs": [
    {
     "data": {
      "text/html": [
       "<div>\n",
       "<style scoped>\n",
       "    .dataframe tbody tr th:only-of-type {\n",
       "        vertical-align: middle;\n",
       "    }\n",
       "\n",
       "    .dataframe tbody tr th {\n",
       "        vertical-align: top;\n",
       "    }\n",
       "\n",
       "    .dataframe thead th {\n",
       "        text-align: right;\n",
       "    }\n",
       "</style>\n",
       "<table border=\"1\" class=\"dataframe\">\n",
       "  <thead>\n",
       "    <tr style=\"text-align: right;\">\n",
       "      <th></th>\n",
       "      <th>Code</th>\n",
       "      <th>Libellé</th>\n",
       "      <th>Taux de chômage des 15 ans et plus (RP) 2016</th>\n",
       "      <th>Taux de chômage des 55-64 ans (RP) 2016</th>\n",
       "      <th>Taux de chômage des 15-24 ans (RP) 2016</th>\n",
       "      <th>Part des moins de 25 ans parmi les demandeurs d'emploi de catégorie ABC 2017</th>\n",
       "    </tr>\n",
       "  </thead>\n",
       "  <tbody>\n",
       "    <tr>\n",
       "      <th>96</th>\n",
       "      <td>971</td>\n",
       "      <td>Guadeloupe</td>\n",
       "      <td>29.1</td>\n",
       "      <td>19.4</td>\n",
       "      <td>52.0</td>\n",
       "      <td>11.0</td>\n",
       "    </tr>\n",
       "    <tr>\n",
       "      <th>97</th>\n",
       "      <td>972</td>\n",
       "      <td>Martinique</td>\n",
       "      <td>24.8</td>\n",
       "      <td>16.3</td>\n",
       "      <td>51.3</td>\n",
       "      <td>10.4</td>\n",
       "    </tr>\n",
       "    <tr>\n",
       "      <th>98</th>\n",
       "      <td>973</td>\n",
       "      <td>Guyane</td>\n",
       "      <td>35.2</td>\n",
       "      <td>21.7</td>\n",
       "      <td>57.6</td>\n",
       "      <td>14.1</td>\n",
       "    </tr>\n",
       "    <tr>\n",
       "      <th>99</th>\n",
       "      <td>974</td>\n",
       "      <td>Réunion</td>\n",
       "      <td>34.6</td>\n",
       "      <td>26.8</td>\n",
       "      <td>55.9</td>\n",
       "      <td>12.6</td>\n",
       "    </tr>\n",
       "    <tr>\n",
       "      <th>100</th>\n",
       "      <td>976</td>\n",
       "      <td>Mayotte</td>\n",
       "      <td>NaN</td>\n",
       "      <td>NaN</td>\n",
       "      <td>NaN</td>\n",
       "      <td>NaN</td>\n",
       "    </tr>\n",
       "  </tbody>\n",
       "</table>\n",
       "</div>"
      ],
      "text/plain": [
       "    Code     Libellé  Taux de chômage des 15 ans et plus (RP) 2016  \\\n",
       "96   971  Guadeloupe                                          29.1   \n",
       "97   972  Martinique                                          24.8   \n",
       "98   973      Guyane                                          35.2   \n",
       "99   974     Réunion                                          34.6   \n",
       "100  976     Mayotte                                           NaN   \n",
       "\n",
       "     Taux de chômage des 55-64 ans (RP) 2016  \\\n",
       "96                                      19.4   \n",
       "97                                      16.3   \n",
       "98                                      21.7   \n",
       "99                                      26.8   \n",
       "100                                      NaN   \n",
       "\n",
       "     Taux de chômage des 15-24 ans (RP) 2016  \\\n",
       "96                                      52.0   \n",
       "97                                      51.3   \n",
       "98                                      57.6   \n",
       "99                                      55.9   \n",
       "100                                      NaN   \n",
       "\n",
       "     Part des moins de 25 ans parmi les demandeurs d'emploi de catégorie ABC 2017  \n",
       "96                                                11.0                             \n",
       "97                                                10.4                             \n",
       "98                                                14.1                             \n",
       "99                                                12.6                             \n",
       "100                                                NaN                             "
      ]
     },
     "execution_count": 84,
     "metadata": {},
     "output_type": "execute_result"
    }
   ],
   "source": [
    "df_chomage.tail()"
   ]
  },
  {
   "cell_type": "code",
   "execution_count": null,
   "metadata": {},
   "outputs": [],
   "source": []
  }
 ],
 "metadata": {
  "kernelspec": {
   "display_name": "Python 3",
   "language": "python",
   "name": "python3"
  },
  "language_info": {
   "codemirror_mode": {
    "name": "ipython",
    "version": 3
   },
   "file_extension": ".py",
   "mimetype": "text/x-python",
   "name": "python",
   "nbconvert_exporter": "python",
   "pygments_lexer": "ipython3",
   "version": "3.7.4"
  }
 },
 "nbformat": 4,
 "nbformat_minor": 2
}
