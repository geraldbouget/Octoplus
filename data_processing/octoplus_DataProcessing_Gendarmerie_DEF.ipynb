{
 "cells": [
  {
   "cell_type": "markdown",
   "metadata": {},
   "source": [
    "<p><font size=\"5\"><b>CRIMES ET DELITS EN FRANCE - SIMPLON DEV. DATA </b></font></p>\n",
    "\n",
    "\n",
    "<p><font size=\"4\"><b> 2-3. PRÉPARATION DONNÉES POUR IMPORT DANS SQL - DONNEES GENDARMERIE </b></font></p>\n",
    "\n",
    "<p><font size=\"3\"> *SOURCE DATASET : https://www.data.gouv.fr/fr/datasets/crimes-et-delits-enregistres-par-les-services-de-gendarmerie-et-de-police-depuis-2012/* </font></p>\n",
    "\n",
    "*© 2020, Gérald Bouget  (<mailto:geraldbouget@gmail.com>)\n",
    "\n",
    "___"
   ]
  },
  {
   "cell_type": "code",
   "execution_count": 1,
   "metadata": {},
   "outputs": [],
   "source": [
    "import pandas as pd\n",
    "import openpyxl\n",
    "from openpyxl.utils import cell\n",
    "import os, zipfile\n",
    "from zipfile import ZipFile\n",
    "import requests\n",
    "import collections\n",
    "#imac:\n",
    "#os.chdir('/Users/admin/SFR Cloud/Documents/Simplon_DataDev_formation/Projet_final/Datasets/crimes_delits_police_gendarmerie_annuel/')\n",
    "\n",
    "#macbookpro:\n",
    "os.chdir('/Users/geraldbouget/SFR Cloud/Documents/Simplon_DataDev_formation/Projet_final/Datasets/crimes_delits_police_gendarmerie_annuel/')\n"
   ]
  },
  {
   "cell_type": "code",
   "execution_count": null,
   "metadata": {},
   "outputs": [],
   "source": []
  },
  {
   "cell_type": "markdown",
   "metadata": {},
   "source": [
    "## <div class=\"alert alert-danger\"> WARNING : ERREUR DANS DATASET SUIVANT - VOIR PLUS BAS - CORRIGE ET REMPLACE À PARTIR DE ENTREE 267  </div> "
   ]
  },
  {
   "cell_type": "code",
   "execution_count": 271,
   "metadata": {},
   "outputs": [],
   "source": [
    "#chargement workbook excel\n",
    "wb=openpyxl.load_workbook('crimes-et-delits-enregistres-par-les-services-de-gendarmerie-et-de-police-depuis-2012_ORIGINAL.xlsx')"
   ]
  },
  {
   "cell_type": "code",
   "execution_count": 272,
   "metadata": {},
   "outputs": [],
   "source": [
    "# CHARGEMENT FICHIER IDENTIQUE QUE PRÉCEDENT (UTILISATION CODE DIFFERENTE)\n",
    "wbpd=pd.ExcelFile('crimes-et-delits-enregistres-par-les-services-de-gendarmerie-et-de-police-depuis-2012_ORIGINAL.xlsx')"
   ]
  },
  {
   "cell_type": "markdown",
   "metadata": {},
   "source": [
    "## <div class=\"alert alert-info\"> 1. Création dictionnaire Gendarmerie et check doublons </div> "
   ]
  },
  {
   "cell_type": "code",
   "execution_count": 72,
   "metadata": {},
   "outputs": [],
   "source": [
    "def gendarmerieDic():\n",
    "    \n",
    "    gendarmerie = {}\n",
    "    for year in wb.sheetnames:\n",
    "        if 'GN' in year:\n",
    "            gendarmerie[year]={'departement':[], 'service':[]}\n",
    "\n",
    "    # récupération des nom de chaque departement de chaque annee à titre unitaire\n",
    "    for year in gendarmerie:\n",
    "        for departements in wb[year]['C1':str(cell.get_column_letter(wb[year].max_column)+'1')]:\n",
    "            for dep in departements:\n",
    "                if dep.value not in gendarmerie[year]['departement'] and dep.value!=None:\n",
    "                    gendarmerie[year]['departement'].append(dep.value)\n",
    "    \n",
    "        for serv in wb[year]['C2':str(cell.get_column_letter(wb[year].max_column)+'2')]:\n",
    "            for services in serv:\n",
    "                if services.value not in gendarmerie[year]['service'] and services.value!=None:\n",
    "                    gendarmerie[year]['service'].append(services.value)\n",
    "\n",
    "    return gendarmerie"
   ]
  },
  {
   "cell_type": "code",
   "execution_count": 73,
   "metadata": {},
   "outputs": [],
   "source": [
    "gendarmerie=gendarmerieDic()\n",
    "# liste des keys principales dans gendarmerie\n",
    "liste=list(gendarmerie)"
   ]
  },
  {
   "cell_type": "code",
   "execution_count": 74,
   "metadata": {},
   "outputs": [
    {
     "data": {
      "text/plain": [
       "['Services GN 2012',\n",
       " 'Services GN 2013',\n",
       " 'Services GN 2014',\n",
       " 'Services GN 2015',\n",
       " 'Services GN 2016',\n",
       " 'Services GN 2017',\n",
       " 'Services GN 2018',\n",
       " 'Services GN 2019']"
      ]
     },
     "execution_count": 74,
     "metadata": {},
     "output_type": "execute_result"
    }
   ],
   "source": [
    "liste"
   ]
  },
  {
   "cell_type": "markdown",
   "metadata": {},
   "source": [
    "## <div class=\"alert alert-info\"> 2. comparaison /check entre années noms variables multi index (dep  - services) </div> "
   ]
  },
  {
   "cell_type": "code",
   "execution_count": 6,
   "metadata": {},
   "outputs": [],
   "source": [
    "def depDiff():\n",
    "    #comparaison departement entre années\n",
    "    for i in range(len(liste)-1):\n",
    "        if set(gendarmerie[liste[i]]['departement']) == set(gendarmerie[liste[i+1]]['departement']):\n",
    "            print(str(liste[i])+ ' ' + 'a les mêmes départements que' + ' ' +str(liste[i+1]))\n",
    "        else:\n",
    "            print(str(liste[i]) + ' n\\'a pas les mêmes départements que '+str(liste[i+1]))"
   ]
  },
  {
   "cell_type": "code",
   "execution_count": 7,
   "metadata": {},
   "outputs": [
    {
     "name": "stdout",
     "output_type": "stream",
     "text": [
      "Services GN 2012 a les mêmes départements que Services GN 2013\n",
      "Services GN 2013 a les mêmes départements que Services GN 2014\n",
      "Services GN 2014 a les mêmes départements que Services GN 2015\n",
      "Services GN 2015 a les mêmes départements que Services GN 2016\n",
      "Services GN 2016 n'a pas les mêmes départements que Services GN 2017\n",
      "Services GN 2017 a les mêmes départements que Services GN 2018\n",
      "Services GN 2018 a les mêmes départements que Services GN 2019\n"
     ]
    }
   ],
   "source": [
    "depDiff()"
   ]
  },
  {
   "cell_type": "code",
   "execution_count": 8,
   "metadata": {},
   "outputs": [
    {
     "data": {
      "text/plain": [
       "['986']"
      ]
     },
     "execution_count": 8,
     "metadata": {},
     "output_type": "execute_result"
    }
   ],
   "source": [
    "# departement pas present partout\n",
    "depmanquant=[g for g in set(gendarmerie[liste[4]]['departement']) if g not in set(gendarmerie[liste[5]]['departement'])]\n",
    "depmanquant"
   ]
  },
  {
   "cell_type": "code",
   "execution_count": 22,
   "metadata": {},
   "outputs": [],
   "source": [
    "def servicesDef():\n",
    "    #comparaison services entre années\n",
    "    for i in range(len(liste)-1):\n",
    "        if set(gendarmerie[liste[i]]['service']) == set(gendarmerie[liste[i+1]]['service']):\n",
    "            print(str(liste[i])+ ' ' + 'est égale à' + ' ' +str(liste[i+1]))\n",
    "        else:\n",
    "            print(str(liste[i])+ ' ' + 'ne correspond pas à' + ' ' +str(liste[i+1]))    "
   ]
  },
  {
   "cell_type": "code",
   "execution_count": 23,
   "metadata": {},
   "outputs": [
    {
     "name": "stdout",
     "output_type": "stream",
     "text": [
      "Services GN 2012 ne correspond pas à Services GN 2013\n",
      "Services GN 2013 ne correspond pas à Services GN 2014\n",
      "Services GN 2014 est égale à Services GN 2015\n",
      "Services GN 2015 ne correspond pas à Services GN 2016\n",
      "Services GN 2016 ne correspond pas à Services GN 2017\n",
      "Services GN 2017 ne correspond pas à Services GN 2018\n",
      "Services GN 2018 ne correspond pas à Services GN 2019\n"
     ]
    }
   ],
   "source": [
    "servicesDef()"
   ]
  },
  {
   "cell_type": "code",
   "execution_count": 273,
   "metadata": {},
   "outputs": [],
   "source": [
    "def serviceDoublons():\n",
    "    # verification doublons dans ligne serivces\n",
    "    df_doublon=pd.DataFrame({\n",
    "        'nomDoubon':[],\n",
    "        'numeroColonne':[],\n",
    "        'annee':[]\n",
    "    })\n",
    "\n",
    "    listeservice=[]\n",
    "    numerocol=[]\n",
    "    \n",
    "    for name in gendarmerie:\n",
    "        for services in wb[name]['C2':str(openpyxl.utils.cell.get_column_letter(wb[name].max_column)+'2')]:\n",
    "            for service in services:\n",
    "                listeservice.append(service.value)\n",
    "                numerocol.append([service.value, service.column, name])        \n",
    "            nomdoublon=[item for item, count in collections.Counter(listeservice).items() if count > 1]\n",
    "            listedoublong=[nc for nc in numerocol if nc[0] in nomdoublon]\n",
    "            #countdoublon=[count[1] for count in  nomdoublon\n",
    "            if len(listedoublong)!=0:\n",
    "                df_doublon=pd.concat([df_doublon,pd.DataFrame(listedoublong).rename(columns={0:'nomDoubon', \n",
    "                                                                                                 1:'numeroColonne',\n",
    "                                                                                                 2:'annee'})])\n",
    "        #print(pd.DataFrame(listedoublong))\n",
    "        listeservice=[]\n",
    "        numerocol=[]\n",
    "                    \n",
    "    if len(df_doublon) ==0:\n",
    "        print('Il n\\'y a pas de doublons dans les noms de service sur une année')\n",
    "    else:\n",
    "        print('voici la liste des doublons')\n",
    "        return df_doublon\n"
   ]
  },
  {
   "cell_type": "code",
   "execution_count": 274,
   "metadata": {
    "scrolled": true
   },
   "outputs": [
    {
     "name": "stdout",
     "output_type": "stream",
     "text": [
      "voici la liste des doublons\n"
     ]
    },
    {
     "data": {
      "text/html": [
       "<div>\n",
       "<style scoped>\n",
       "    .dataframe tbody tr th:only-of-type {\n",
       "        vertical-align: middle;\n",
       "    }\n",
       "\n",
       "    .dataframe tbody tr th {\n",
       "        vertical-align: top;\n",
       "    }\n",
       "\n",
       "    .dataframe thead th {\n",
       "        text-align: right;\n",
       "    }\n",
       "</style>\n",
       "<table border=\"1\" class=\"dataframe\">\n",
       "  <thead>\n",
       "    <tr style=\"text-align: right;\">\n",
       "      <th></th>\n",
       "      <th>nomDoubon</th>\n",
       "      <th>numeroColonne</th>\n",
       "      <th>annee</th>\n",
       "    </tr>\n",
       "  </thead>\n",
       "  <tbody>\n",
       "    <tr>\n",
       "      <th>0</th>\n",
       "      <td>CGD LA FOA</td>\n",
       "      <td>374.0</td>\n",
       "      <td>Services GN 2017</td>\n",
       "    </tr>\n",
       "    <tr>\n",
       "      <th>1</th>\n",
       "      <td>CGD NOUMEA</td>\n",
       "      <td>375.0</td>\n",
       "      <td>Services GN 2017</td>\n",
       "    </tr>\n",
       "    <tr>\n",
       "      <th>2</th>\n",
       "      <td>CGD POINDIMIE</td>\n",
       "      <td>376.0</td>\n",
       "      <td>Services GN 2017</td>\n",
       "    </tr>\n",
       "    <tr>\n",
       "      <th>3</th>\n",
       "      <td>CGD LA FOA</td>\n",
       "      <td>377.0</td>\n",
       "      <td>Services GN 2017</td>\n",
       "    </tr>\n",
       "    <tr>\n",
       "      <th>4</th>\n",
       "      <td>CGD NOUMEA</td>\n",
       "      <td>378.0</td>\n",
       "      <td>Services GN 2017</td>\n",
       "    </tr>\n",
       "    <tr>\n",
       "      <th>5</th>\n",
       "      <td>CGD POINDIMIE</td>\n",
       "      <td>379.0</td>\n",
       "      <td>Services GN 2017</td>\n",
       "    </tr>\n",
       "    <tr>\n",
       "      <th>0</th>\n",
       "      <td>None</td>\n",
       "      <td>377.0</td>\n",
       "      <td>Services GN 2018</td>\n",
       "    </tr>\n",
       "    <tr>\n",
       "      <th>1</th>\n",
       "      <td>None</td>\n",
       "      <td>378.0</td>\n",
       "      <td>Services GN 2018</td>\n",
       "    </tr>\n",
       "    <tr>\n",
       "      <th>2</th>\n",
       "      <td>None</td>\n",
       "      <td>379.0</td>\n",
       "      <td>Services GN 2018</td>\n",
       "    </tr>\n",
       "    <tr>\n",
       "      <th>0</th>\n",
       "      <td>None</td>\n",
       "      <td>375.0</td>\n",
       "      <td>Services GN 2019</td>\n",
       "    </tr>\n",
       "    <tr>\n",
       "      <th>1</th>\n",
       "      <td>None</td>\n",
       "      <td>376.0</td>\n",
       "      <td>Services GN 2019</td>\n",
       "    </tr>\n",
       "    <tr>\n",
       "      <th>2</th>\n",
       "      <td>None</td>\n",
       "      <td>377.0</td>\n",
       "      <td>Services GN 2019</td>\n",
       "    </tr>\n",
       "    <tr>\n",
       "      <th>3</th>\n",
       "      <td>None</td>\n",
       "      <td>378.0</td>\n",
       "      <td>Services GN 2019</td>\n",
       "    </tr>\n",
       "    <tr>\n",
       "      <th>4</th>\n",
       "      <td>None</td>\n",
       "      <td>379.0</td>\n",
       "      <td>Services GN 2019</td>\n",
       "    </tr>\n",
       "  </tbody>\n",
       "</table>\n",
       "</div>"
      ],
      "text/plain": [
       "       nomDoubon  numeroColonne             annee\n",
       "0     CGD LA FOA          374.0  Services GN 2017\n",
       "1     CGD NOUMEA          375.0  Services GN 2017\n",
       "2  CGD POINDIMIE          376.0  Services GN 2017\n",
       "3     CGD LA FOA          377.0  Services GN 2017\n",
       "4     CGD NOUMEA          378.0  Services GN 2017\n",
       "5  CGD POINDIMIE          379.0  Services GN 2017\n",
       "0           None          377.0  Services GN 2018\n",
       "1           None          378.0  Services GN 2018\n",
       "2           None          379.0  Services GN 2018\n",
       "0           None          375.0  Services GN 2019\n",
       "1           None          376.0  Services GN 2019\n",
       "2           None          377.0  Services GN 2019\n",
       "3           None          378.0  Services GN 2019\n",
       "4           None          379.0  Services GN 2019"
      ]
     },
     "execution_count": 274,
     "metadata": {},
     "output_type": "execute_result"
    }
   ],
   "source": [
    "serviceDoublons()"
   ]
  },
  {
   "cell_type": "code",
   "execution_count": 275,
   "metadata": {},
   "outputs": [],
   "source": [
    "# check libelle et codeindex identiques pour tous les onglets\n",
    "def checkLibelle(fichier_excel):\n",
    "    liste_probleme=[]\n",
    "    df_check=pd.DataFrame({'Code index':[],\n",
    "                          'libelle':[]})\n",
    "    # on concat df_check avec le 1er onglet annee 2012\n",
    "    # pour éviter multiindexage on ne retient que les variables service (header 1 pour gendarmerie)\n",
    "    df=pd.read_excel(fichier_excel,sheet_name=liste[0], header=1).rename(columns={'Libellé index \\\\ CGD':'libelle'})\n",
    "    df=df.iloc[:,[0,1]] # df avec uniquement colonne code index et libelle\n",
    "    df_check=pd.concat([df_check, df])\n",
    "    \n",
    "    # on concat df check avec les années suivantes\n",
    "    # on sépare les 2 process de concat pour que la comparaison se fasse à partir de la 2eme année\n",
    "    for sheetname in liste[1::]:\n",
    "         # on garde uniquement variable service pour éviter multiindexage (header=1 pour gendarmerie)\n",
    "        df=pd.read_excel(fichier_excel,sheet_name=sheetname, header=1).rename(columns={'Libellé index \\\\ CGD':'libelle'})\n",
    "        df=df.iloc[:,[0,1]] # df avec uniquement colonne code index et libelle\n",
    "        df_check=pd.concat([df_check, df])\n",
    "        if len(df_check[['Code index', 'libelle']].drop_duplicates(keep=False))>0:\n",
    "            liste_probleme.append([str(sheetname), df_check[['Code index', 'libelle']].drop_duplicates(keep=False)])\n",
    "        \n",
    "    return liste_probleme"
   ]
  },
  {
   "cell_type": "code",
   "execution_count": 276,
   "metadata": {},
   "outputs": [
    {
     "data": {
      "text/plain": [
       "[['Services GN 2019',\n",
       "       Code index                                            libelle\n",
       "  95         98.0                                  Index non utilisé\n",
       "  96        101.0                                  Index non utilisé\n",
       "  97        102.0  Banqueroutes, abus de biens sociaux et autres ...\n",
       "  98        103.0                                  Index non utilisé\n",
       "  99        104.0                                  Index non utilisé\n",
       "  100       105.0  Prix illicittes, publicité fausse et infractio...\n",
       "  101       106.0                     Achats et ventes sans factures\n",
       "  102       107.0  Infractions à l'exercice d'une profession règl...\n",
       "  103         NaN  Infractions au droit de l'urbanisme et de la c...\n",
       "  104         NaN                                   Fraudes fiscales\n",
       "  105         NaN            Autres délits économiques et financiers\n",
       "  106         NaN                                      Autres délits]]"
      ]
     },
     "execution_count": 276,
     "metadata": {},
     "output_type": "execute_result"
    }
   ],
   "source": [
    "checkLibelle(wbpd)"
   ]
  },
  {
   "cell_type": "raw",
   "metadata": {},
   "source": [
    ">>> erreur dans le dataset pour l'année 2019:\n",
    "décalage dans les lignes à partir de de l'index 98\n",
    "choix de corriger le dataset original et de travailler à partir de ce nouveau dataset"
   ]
  },
  {
   "cell_type": "markdown",
   "metadata": {},
   "source": [
    "## <div class=\"alert alert-danger\"> WARNING : DATASET ORGINAL MODIFIE : LE BON DATASET EST LE SUIVANT  </div> "
   ]
  },
  {
   "cell_type": "code",
   "execution_count": 277,
   "metadata": {},
   "outputs": [],
   "source": [
    "#chargement workbook excel\n",
    "wb=openpyxl.load_workbook('crimes-et-delits-enregistres-par-les-services-de-gendarmerie-et-de-police-depuis-2012-2019-CORRIGE.xlsx')"
   ]
  },
  {
   "cell_type": "code",
   "execution_count": 278,
   "metadata": {},
   "outputs": [],
   "source": [
    "wbpd=pd.ExcelFile('crimes-et-delits-enregistres-par-les-services-de-gendarmerie-et-de-police-depuis-2012-2019-CORRIGE.xlsx')"
   ]
  },
  {
   "cell_type": "markdown",
   "metadata": {},
   "source": [
    "## <div class=\"alert alert-info\"> 3. Structuration table 'service' </div> "
   ]
  },
  {
   "cell_type": "raw",
   "metadata": {},
   "source": [
    "utilité de df serviceUnique:\n",
    "pour servir à vérifier après que j'ai bien le même nombre de services uniques \n",
    "une fois la restructuration complètée  et pour merge avec table combinaisons uniques grâce à colonne IdService\n",
    "générée ici ainsi que pour merge dans table_pointage.\n"
   ]
  },
  {
   "cell_type": "raw",
   "metadata": {},
   "source": [
    "# variante code ppour creer table service (keep next one because first one and not same id)\n",
    "liste_temp=[]\n",
    "for sheetname in liste:\n",
    "    if sheetname!='Services GN 2017':\n",
    "        \n",
    "        serv=pd.read_excel(wbpd,sheetname, header=1, nrow=0, index=0).columns[2::]\n",
    "        for service in serv:\n",
    "            liste_temp.append(service)\n",
    "    if sheetname=='Services GN 2017':\n",
    "        serv=pd.read_excel(wbpd,sheetname, header=1, nrow=0, index=0).columns[2:-3]\n",
    "        for service in serv:\n",
    "            liste_temp.append(service)\n",
    "liste_temp=set(liste_temp)\n",
    "table_service=pd.DataFrame({'idService':list(range(1, len(liste_temp)+1)),\n",
    "               'nomService':list(liste_temp)})\n",
    "table_service"
   ]
  },
  {
   "cell_type": "code",
   "execution_count": 426,
   "metadata": {},
   "outputs": [],
   "source": [
    "def serviceUnique():\n",
    "    #creation liste de tous les services uniques depuis 2012\n",
    "    liste_service_unique = []\n",
    "    for year in liste: #liste=liste des keys dans dict police\n",
    "        for serv in gendarmerie[year]['service']:\n",
    "            if serv not in liste_service_unique:\n",
    "                liste_service_unique.append(serv)\n",
    "\n",
    "                #df service intermédiaire\n",
    "                df_service_def = pd.DataFrame(\n",
    "                    liste_service_unique).reset_index().rename(\n",
    "                    columns={'index':'idService', 0:'nomService'})\n",
    "                #pour être raccord avec autincrementation dans SQL qui commence à 1 et non 0 :\n",
    "                df_service_def['idService'] = df_service_def['idService']+1\n",
    "    return df_service_def"
   ]
  },
  {
   "cell_type": "code",
   "execution_count": 427,
   "metadata": {},
   "outputs": [
    {
     "data": {
      "text/html": [
       "<div>\n",
       "<style scoped>\n",
       "    .dataframe tbody tr th:only-of-type {\n",
       "        vertical-align: middle;\n",
       "    }\n",
       "\n",
       "    .dataframe tbody tr th {\n",
       "        vertical-align: top;\n",
       "    }\n",
       "\n",
       "    .dataframe thead th {\n",
       "        text-align: right;\n",
       "    }\n",
       "</style>\n",
       "<table border=\"1\" class=\"dataframe\">\n",
       "  <thead>\n",
       "    <tr style=\"text-align: right;\">\n",
       "      <th></th>\n",
       "      <th>idService</th>\n",
       "      <th>nomService</th>\n",
       "    </tr>\n",
       "  </thead>\n",
       "  <tbody>\n",
       "    <tr>\n",
       "      <th>390</th>\n",
       "      <td>391</td>\n",
       "      <td>CGD ANCENIS ST GEREON</td>\n",
       "    </tr>\n",
       "    <tr>\n",
       "      <th>391</th>\n",
       "      <td>392</td>\n",
       "      <td>CGD CHATEAU GONTIER SUR MAYENNE</td>\n",
       "    </tr>\n",
       "    <tr>\n",
       "      <th>392</th>\n",
       "      <td>393</td>\n",
       "      <td>CGD EVRY COURCOURONNES</td>\n",
       "    </tr>\n",
       "    <tr>\n",
       "      <th>393</th>\n",
       "      <td>394</td>\n",
       "      <td>CGD LES ARCHIPELS PAPEETE</td>\n",
       "    </tr>\n",
       "    <tr>\n",
       "      <th>394</th>\n",
       "      <td>395</td>\n",
       "      <td>CGD LES ILES DU VENT FAAA</td>\n",
       "    </tr>\n",
       "  </tbody>\n",
       "</table>\n",
       "</div>"
      ],
      "text/plain": [
       "     idService                       nomService\n",
       "390        391            CGD ANCENIS ST GEREON\n",
       "391        392  CGD CHATEAU GONTIER SUR MAYENNE\n",
       "392        393           CGD EVRY COURCOURONNES\n",
       "393        394        CGD LES ARCHIPELS PAPEETE\n",
       "394        395        CGD LES ILES DU VENT FAAA"
      ]
     },
     "execution_count": 427,
     "metadata": {},
     "output_type": "execute_result"
    }
   ],
   "source": [
    "df_services_unique=serviceUnique()\n",
    "df_services_unique.tail()\n"
   ]
  },
  {
   "cell_type": "code",
   "execution_count": 428,
   "metadata": {},
   "outputs": [
    {
     "data": {
      "text/plain": [
       "395"
      ]
     },
     "execution_count": 428,
     "metadata": {},
     "output_type": "execute_result"
    }
   ],
   "source": [
    "len(df_services_unique)"
   ]
  },
  {
   "cell_type": "code",
   "execution_count": 382,
   "metadata": {},
   "outputs": [],
   "source": [
    "def CombinaisonUniqueService():\n",
    "    \n",
    "    v=pd.DataFrame({'numDep':[],\n",
    "                    'nomService':[]})\n",
    "    for sheetname in liste: #liste= liste des noms des onglets\n",
    "        if sheetname!='Services GN 2017':\n",
    "            # je récupère la liste des nom colonnes (dep-service)\n",
    "            dep_serv=pd.read_excel(wbpd,sheetname, header=[0,1], nrow=0, index=0).columns[2::]\n",
    "            v=pd.concat([v, pd.DataFrame({'numDep':[i[0] for i in dep_serv],\n",
    "                                          'nomService':[i[1] for i in dep_serv]})], axis=0)\n",
    "        if sheetname=='Services GN 2017': #année où il y a problème doublons de colonnes\n",
    "            dep_serv=pd.read_excel(wbpd,sheetname, header=[0,1], nrow=0, index=0).columns[2:-3]\n",
    "            v=pd.concat([v, pd.DataFrame({'numDep':[i[0] for i in dep_serv],\n",
    "                                              'nomService':[i[1] for i in dep_serv]})], axis=0)\n",
    "    v=v.drop_duplicates(keep='last').reset_index(drop=True)\n",
    "    return v"
   ]
  },
  {
   "cell_type": "code",
   "execution_count": 383,
   "metadata": {},
   "outputs": [
    {
     "data": {
      "text/html": [
       "<div>\n",
       "<style scoped>\n",
       "    .dataframe tbody tr th:only-of-type {\n",
       "        vertical-align: middle;\n",
       "    }\n",
       "\n",
       "    .dataframe tbody tr th {\n",
       "        vertical-align: top;\n",
       "    }\n",
       "\n",
       "    .dataframe thead th {\n",
       "        text-align: right;\n",
       "    }\n",
       "</style>\n",
       "<table border=\"1\" class=\"dataframe\">\n",
       "  <thead>\n",
       "    <tr style=\"text-align: right;\">\n",
       "      <th></th>\n",
       "      <th>numDep</th>\n",
       "      <th>nomService</th>\n",
       "    </tr>\n",
       "  </thead>\n",
       "  <tbody>\n",
       "    <tr>\n",
       "      <th>0</th>\n",
       "      <td>07</td>\n",
       "      <td>CGD PRIVAS</td>\n",
       "    </tr>\n",
       "    <tr>\n",
       "      <th>1</th>\n",
       "      <td>33</td>\n",
       "      <td>CGD BORDEAUX-BASTIDE</td>\n",
       "    </tr>\n",
       "    <tr>\n",
       "      <th>2</th>\n",
       "      <td>95</td>\n",
       "      <td>CGD ARGENTEUIL</td>\n",
       "    </tr>\n",
       "    <tr>\n",
       "      <th>3</th>\n",
       "      <td>987</td>\n",
       "      <td>CGD ILES-DU-VENT-PAPEETE</td>\n",
       "    </tr>\n",
       "    <tr>\n",
       "      <th>4</th>\n",
       "      <td>24</td>\n",
       "      <td>CGD RIBERAC</td>\n",
       "    </tr>\n",
       "  </tbody>\n",
       "</table>\n",
       "</div>"
      ],
      "text/plain": [
       "  numDep                nomService\n",
       "0     07                CGD PRIVAS\n",
       "1     33      CGD BORDEAUX-BASTIDE\n",
       "2     95            CGD ARGENTEUIL\n",
       "3    987  CGD ILES-DU-VENT-PAPEETE\n",
       "4     24               CGD RIBERAC"
      ]
     },
     "execution_count": 383,
     "metadata": {},
     "output_type": "execute_result"
    }
   ],
   "source": [
    "df_combinaisons_uniques=CombinaisonUniqueService()\n",
    "df_combinaisons_uniques.head()"
   ]
  },
  {
   "cell_type": "code",
   "execution_count": 384,
   "metadata": {},
   "outputs": [
    {
     "data": {
      "text/plain": [
       "395"
      ]
     },
     "execution_count": 384,
     "metadata": {},
     "output_type": "execute_result"
    }
   ],
   "source": [
    "#verification que toujours même nombre de services uniques\n",
    "len(df_combinaisons_uniques)"
   ]
  },
  {
   "cell_type": "code",
   "execution_count": 419,
   "metadata": {},
   "outputs": [],
   "source": [
    "def tableService():\n",
    "    df_tableService=df_combinaisons_uniques.copy()\n",
    "    df_tableService['idAdm']=2 #gendarmerie PK=2\n",
    "    df_tableService['idDirection']='' #pas de directions données pour la gendarmerie (uniquement pour la police)\n",
    "    \n",
    "    return df_tableService"
   ]
  },
  {
   "cell_type": "code",
   "execution_count": 420,
   "metadata": {},
   "outputs": [
    {
     "data": {
      "text/html": [
       "<div>\n",
       "<style scoped>\n",
       "    .dataframe tbody tr th:only-of-type {\n",
       "        vertical-align: middle;\n",
       "    }\n",
       "\n",
       "    .dataframe tbody tr th {\n",
       "        vertical-align: top;\n",
       "    }\n",
       "\n",
       "    .dataframe thead th {\n",
       "        text-align: right;\n",
       "    }\n",
       "</style>\n",
       "<table border=\"1\" class=\"dataframe\">\n",
       "  <thead>\n",
       "    <tr style=\"text-align: right;\">\n",
       "      <th></th>\n",
       "      <th>numDep</th>\n",
       "      <th>nomService</th>\n",
       "      <th>idAdm</th>\n",
       "      <th>idDirection</th>\n",
       "    </tr>\n",
       "  </thead>\n",
       "  <tbody>\n",
       "    <tr>\n",
       "      <th>0</th>\n",
       "      <td>07</td>\n",
       "      <td>CGD PRIVAS</td>\n",
       "      <td>2</td>\n",
       "      <td></td>\n",
       "    </tr>\n",
       "    <tr>\n",
       "      <th>1</th>\n",
       "      <td>33</td>\n",
       "      <td>CGD BORDEAUX-BASTIDE</td>\n",
       "      <td>2</td>\n",
       "      <td></td>\n",
       "    </tr>\n",
       "    <tr>\n",
       "      <th>2</th>\n",
       "      <td>95</td>\n",
       "      <td>CGD ARGENTEUIL</td>\n",
       "      <td>2</td>\n",
       "      <td></td>\n",
       "    </tr>\n",
       "    <tr>\n",
       "      <th>3</th>\n",
       "      <td>987</td>\n",
       "      <td>CGD ILES-DU-VENT-PAPEETE</td>\n",
       "      <td>2</td>\n",
       "      <td></td>\n",
       "    </tr>\n",
       "    <tr>\n",
       "      <th>4</th>\n",
       "      <td>24</td>\n",
       "      <td>CGD RIBERAC</td>\n",
       "      <td>2</td>\n",
       "      <td></td>\n",
       "    </tr>\n",
       "  </tbody>\n",
       "</table>\n",
       "</div>"
      ],
      "text/plain": [
       "  numDep                nomService  idAdm idDirection\n",
       "0     07                CGD PRIVAS      2            \n",
       "1     33      CGD BORDEAUX-BASTIDE      2            \n",
       "2     95            CGD ARGENTEUIL      2            \n",
       "3    987  CGD ILES-DU-VENT-PAPEETE      2            \n",
       "4     24               CGD RIBERAC      2            "
      ]
     },
     "execution_count": 420,
     "metadata": {},
     "output_type": "execute_result"
    }
   ],
   "source": [
    "df_table_service=tableService()\n",
    "df_table_service.head()"
   ]
  },
  {
   "cell_type": "code",
   "execution_count": 421,
   "metadata": {},
   "outputs": [
    {
     "data": {
      "text/plain": [
       "395"
      ]
     },
     "execution_count": 421,
     "metadata": {},
     "output_type": "execute_result"
    }
   ],
   "source": [
    "len(df_table_service)"
   ]
  },
  {
   "cell_type": "code",
   "execution_count": 411,
   "metadata": {},
   "outputs": [],
   "source": [
    "# export csv pour import SQL\n",
    "service_to_sql = df_table_service.to_csv('fichiersPourImportSQL/export_services_gendarmerie.csv',\n",
    "                                        columns=['numDep',\n",
    "                                                'nomService',\n",
    "                                                'idDirection',\n",
    "                                                'idAdm'], index=False)\n"
   ]
  },
  {
   "cell_type": "markdown",
   "metadata": {},
   "source": [
    "## <div class=\"alert alert-info\"> 4. Structuration table 'pointage' </div> "
   ]
  },
  {
   "cell_type": "code",
   "execution_count": 422,
   "metadata": {},
   "outputs": [],
   "source": [
    "def tablePointage():\n",
    "    # Création template DF final\n",
    "    df_pointage=pd.DataFrame({\n",
    "        'codeIndex':[],\n",
    "        'nomService':[],\n",
    "        'nbreInfractions':[],\n",
    "        'annee':[]\n",
    "    })\n",
    "    \n",
    "    # en raison d'une erreur dans le tableau excel de l'année 2017 (voir verif doublons début notebook)\n",
    "    # je sépare le processing entre 2017 et les autres années\n",
    "    listeanneeclean=[name for name in gendarmerie]\n",
    "    listeanneeclean.remove('Services GN 2017')\n",
    "    #listeanneeclean\n",
    "    \n",
    "    # liste pour accueillir df restructurés par année\n",
    "    df_pointage_liste = []\n",
    "\n",
    "    # loop pour aller récupérer dans chaque onglet gendarmerie le nbre \n",
    "    # d'infractions / service/ code index ss orme de DF\n",
    "    for name in listeanneeclean:\n",
    "        df_temp = pd.read_excel(wbpd,\n",
    "                  sheet_name=name,\n",
    "                  header=[1], #ne retenir que la ligne 'services'\n",
    "                  # on ne garde que code index et pas libelle + services en ligne \n",
    "                  # et aggregations nbre d'ifnractions:\n",
    "                  index_col=0).fillna(0.0, axis=1)\n",
    "        for i in range(1, len(df_temp.columns)):\n",
    "            df_temp.iloc[:,i]=df_temp.iloc[:,i].apply(lambda x: int(x))\n",
    "    \n",
    "        df_temp=df_temp.drop('Libellé index \\ CGD', axis=1).stack().reset_index().rename(\n",
    "            columns={'Code index':'codeIndex', 'level_1':'nomService', 0:'nbreInfractions'})\n",
    "        df_temp['annee']=str(name[-4:]) #récupération année à partir noms onglets et mise en colonne\n",
    "        df_pointage_liste.append(df_temp)\n",
    "    \n",
    "    #processing pour année 2017\n",
    "    df_2017 = pd.read_excel(wbpd,\n",
    "                  sheet_name='Services GN 2017',\n",
    "                  header=[1], #ne retenir que la ligne 'services'\n",
    "                  # on ne garde que code index et pas libelle + services en ligne et \n",
    "                  # aggregations nbre d'ifnractions:\n",
    "                  index_col=0,\n",
    "                usecols=[i for i in range(0, 376)]) #376 dernière colonne avant doublons\n",
    "    \n",
    "    df_2017=df_2017.fillna(0.0, axis=1) #remplacé na values par 0.0 1/2\n",
    "    \n",
    "    for i in range(1, len(df_2017.columns)):\n",
    "        df_2017.iloc[:,i]=df_2017.iloc[:,i].apply(lambda x: int(x)) #conversion float value en int 2/2\n",
    "        \n",
    "    #utilisation stack pour avoir services en lignes et nbre d'infraction en colonnes aggrégées\n",
    "    df_2017=df_2017.drop('Libellé index \\ CGD', axis=1).stack().reset_index().rename(\n",
    "            columns={'Code index':'codeIndex', 'level_1':'nomService', 0:'nbreInfractions'})\n",
    "    df_2017['annee']='2017' #récupération année à partir noms onglets et mise en colonne\n",
    "    df_pointage_liste.append(df_2017)\n",
    "        \n",
    "        \n",
    "    # concatener tous les df restructurés de chaque année\n",
    "    df_pointage=pd.concat(df_pointage_liste)\n",
    "    \n",
    "   \n",
    "    \n",
    "    return df_pointage\n",
    "    "
   ]
  },
  {
   "cell_type": "code",
   "execution_count": 423,
   "metadata": {},
   "outputs": [],
   "source": [
    "df_table_pointage=tablePointage()"
   ]
  },
  {
   "cell_type": "code",
   "execution_count": 424,
   "metadata": {},
   "outputs": [
    {
     "data": {
      "text/html": [
       "<div>\n",
       "<style scoped>\n",
       "    .dataframe tbody tr th:only-of-type {\n",
       "        vertical-align: middle;\n",
       "    }\n",
       "\n",
       "    .dataframe tbody tr th {\n",
       "        vertical-align: top;\n",
       "    }\n",
       "\n",
       "    .dataframe thead th {\n",
       "        text-align: right;\n",
       "    }\n",
       "</style>\n",
       "<table border=\"1\" class=\"dataframe\">\n",
       "  <thead>\n",
       "    <tr style=\"text-align: right;\">\n",
       "      <th></th>\n",
       "      <th>codeIndex</th>\n",
       "      <th>nomService</th>\n",
       "      <th>nbreInfractions</th>\n",
       "      <th>annee</th>\n",
       "    </tr>\n",
       "  </thead>\n",
       "  <tbody>\n",
       "  </tbody>\n",
       "</table>\n",
       "</div>"
      ],
      "text/plain": [
       "Empty DataFrame\n",
       "Columns: [codeIndex, nomService, nbreInfractions, annee]\n",
       "Index: []"
      ]
     },
     "execution_count": 424,
     "metadata": {},
     "output_type": "execute_result"
    }
   ],
   "source": [
    "df_table_pointage[df_table_pointage.duplicated()]"
   ]
  },
  {
   "cell_type": "code",
   "execution_count": 425,
   "metadata": {},
   "outputs": [
    {
     "data": {
      "text/html": [
       "<div>\n",
       "<style scoped>\n",
       "    .dataframe tbody tr th:only-of-type {\n",
       "        vertical-align: middle;\n",
       "    }\n",
       "\n",
       "    .dataframe tbody tr th {\n",
       "        vertical-align: top;\n",
       "    }\n",
       "\n",
       "    .dataframe thead th {\n",
       "        text-align: right;\n",
       "    }\n",
       "</style>\n",
       "<table border=\"1\" class=\"dataframe\">\n",
       "  <thead>\n",
       "    <tr style=\"text-align: right;\">\n",
       "      <th></th>\n",
       "      <th>codeIndex</th>\n",
       "      <th>nomService</th>\n",
       "      <th>nbreInfractions</th>\n",
       "      <th>annee</th>\n",
       "    </tr>\n",
       "  </thead>\n",
       "  <tbody>\n",
       "    <tr>\n",
       "      <th>40013</th>\n",
       "      <td>107</td>\n",
       "      <td>CGD ILES DU VENT FAAA</td>\n",
       "      <td>202</td>\n",
       "      <td>2017</td>\n",
       "    </tr>\n",
       "    <tr>\n",
       "      <th>40014</th>\n",
       "      <td>107</td>\n",
       "      <td>CGD KONE</td>\n",
       "      <td>42</td>\n",
       "      <td>2017</td>\n",
       "    </tr>\n",
       "    <tr>\n",
       "      <th>40015</th>\n",
       "      <td>107</td>\n",
       "      <td>CGD LA FOA</td>\n",
       "      <td>49</td>\n",
       "      <td>2017</td>\n",
       "    </tr>\n",
       "    <tr>\n",
       "      <th>40016</th>\n",
       "      <td>107</td>\n",
       "      <td>CGD NOUMEA</td>\n",
       "      <td>129</td>\n",
       "      <td>2017</td>\n",
       "    </tr>\n",
       "    <tr>\n",
       "      <th>40017</th>\n",
       "      <td>107</td>\n",
       "      <td>CGD POINDIMIE</td>\n",
       "      <td>16</td>\n",
       "      <td>2017</td>\n",
       "    </tr>\n",
       "  </tbody>\n",
       "</table>\n",
       "</div>"
      ],
      "text/plain": [
       "       codeIndex             nomService  nbreInfractions annee\n",
       "40013        107  CGD ILES DU VENT FAAA              202  2017\n",
       "40014        107               CGD KONE               42  2017\n",
       "40015        107             CGD LA FOA               49  2017\n",
       "40016        107             CGD NOUMEA              129  2017\n",
       "40017        107          CGD POINDIMIE               16  2017"
      ]
     },
     "execution_count": 425,
     "metadata": {},
     "output_type": "execute_result"
    }
   ],
   "source": [
    "df_table_pointage.tail()"
   ]
  },
  {
   "cell_type": "code",
   "execution_count": 34,
   "metadata": {},
   "outputs": [],
   "source": [
    " # merge entre nom services et idService et drop colonne nomService\n",
    "#df_pointage_def=df_pointage.merge(df_table_service[['nomService', 'idService', 'idDirection']], \n",
    "                                   #how='left', \n",
    "                                   #left_on='nomService', \n",
    "                                   #right_on='nomService'\n",
    "                                  #)"
   ]
  },
  {
   "cell_type": "code",
   "execution_count": 410,
   "metadata": {},
   "outputs": [],
   "source": [
    "# export CSV\n",
    "pointage_to_sql = df_table_pointage.to_csv('fichiersPourImportSQL/export_pointage_gendarmerie.csv',\n",
    "                                          columns=['codeIndex',\n",
    "                                                'nomService',\n",
    "                                               'nbreInfractions',\n",
    "                                               'annee'], index=False)\n",
    "                                                                                                       "
   ]
  },
  {
   "cell_type": "code",
   "execution_count": null,
   "metadata": {},
   "outputs": [],
   "source": []
  }
 ],
 "metadata": {
  "kernelspec": {
   "display_name": "Python 3",
   "language": "python",
   "name": "python3"
  },
  "language_info": {
   "codemirror_mode": {
    "name": "ipython",
    "version": 3
   },
   "file_extension": ".py",
   "mimetype": "text/x-python",
   "name": "python",
   "nbconvert_exporter": "python",
   "pygments_lexer": "ipython3",
   "version": "3.7.4"
  }
 },
 "nbformat": 4,
 "nbformat_minor": 2
}
